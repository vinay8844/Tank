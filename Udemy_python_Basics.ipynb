{
 "cells": [
  {
   "cell_type": "code",
   "execution_count": 3,
   "metadata": {},
   "outputs": [
    {
     "name": "stdout",
     "output_type": "stream",
     "text": [
      "D:\\Data Science\\Directory_A\n"
     ]
    }
   ],
   "source": [
    "import os\n",
    "os.chdir('D:\\Data Science\\Directory_A')\n",
    "print(os.getcwd())"
   ]
  },
  {
   "cell_type": "markdown",
   "metadata": {},
   "source": [
    "# Udemy Tutorial (The Python Mega Course)"
   ]
  },
  {
   "cell_type": "code",
   "execution_count": 4,
   "metadata": {},
   "outputs": [
    {
     "name": "stdout",
     "output_type": "stream",
     "text": [
      "D:\\Data Science\\Directory_A\n"
     ]
    }
   ],
   "source": [
    "print(os.getcwd())"
   ]
  },
  {
   "cell_type": "markdown",
   "metadata": {},
   "source": [
    "### Docstrings(\"\"\"      \"\"\") 'video-128' .  It is used to write multiline strings.  "
   ]
  },
  {
   "cell_type": "code",
   "execution_count": 6,
   "metadata": {},
   "outputs": [],
   "source": [
    "text = \"\"\" Global Warming: Increased temperatures due to trapped heat from greenhouse gases. \n",
    "Melting Ice and Rising Sea Levels: Ice caps and glaciers melt, causing oceans to rise.\n",
    "Ocean Acidification: Oceans absorb excess CO2, leading to more acidic waters harming marine life. \"\"\""
   ]
  },
  {
   "cell_type": "code",
   "execution_count": 7,
   "metadata": {},
   "outputs": [
    {
     "name": "stdout",
     "output_type": "stream",
     "text": [
      " Global Warming: Increased temperatures due to trapped heat from greenhouse gases. \n",
      "Melting Ice and Rising Sea Levels: Ice caps and glaciers melt, causing oceans to rise.\n",
      "Ocean Acidification: Oceans absorb excess CO2, leading to more acidic waters harming marine life. \n"
     ]
    }
   ],
   "source": [
    "print(text)"
   ]
  },
  {
   "cell_type": "code",
   "execution_count": 1,
   "metadata": {
    "scrolled": true
   },
   "outputs": [
    {
     "name": "stdout",
     "output_type": "stream",
     "text": [
      "how are u:good\n",
      "good\n"
     ]
    }
   ],
   "source": [
    "sat= 'how are u:'\n",
    "bat= input(sat)\n",
    "print(bat)"
   ]
  },
  {
   "cell_type": "code",
   "execution_count": 2,
   "metadata": {},
   "outputs": [
    {
     "name": "stdout",
     "output_type": "stream",
     "text": [
      "Enter a todo:  hi aryash\n",
      "Enter a todo:  hi vinay\n",
      "Enter a todo:  hi nithya\n",
      "['hi aryash', 'hi vinay', 'hi nithya', 'hello']\n"
     ]
    }
   ],
   "source": [
    "user_prompt = 'Enter a todo:  '\n",
    "todo1 = input(user_prompt)\n",
    "todo2 = input(user_prompt)\n",
    "todo3 = input(user_prompt)\n",
    "todos = [todo1, todo2, todo3, 'hello']\n",
    "print(todos)"
   ]
  },
  {
   "cell_type": "markdown",
   "metadata": {},
   "source": [
    "# Infinite loop with \"while\""
   ]
  },
  {
   "cell_type": "code",
   "execution_count": 3,
   "metadata": {},
   "outputs": [],
   "source": [
    "#text = \"Enter a todo list:\"\n",
    "#while 2>1:\n",
    "#   text_1 = input(text)"
   ]
  },
  {
   "cell_type": "code",
   "execution_count": 4,
   "metadata": {
    "scrolled": true
   },
   "outputs": [],
   "source": [
    "#text = \"Enter a todo list:\"\n",
    "#while 2>1:\n",
    "#    text_1 = input(text)\n",
    "#    print(\"hello world\")\n",
    "#    print(\"Next......\")"
   ]
  },
  {
   "cell_type": "code",
   "execution_count": 5,
   "metadata": {},
   "outputs": [],
   "source": [
    "#text = \"Enter a todo list:\"\n",
    "#while True:\n",
    "#    text_1 = input(text)\n",
    "#    print(\"check\")\n",
    "#    print(\"Next......\")"
   ]
  },
  {
   "cell_type": "code",
   "execution_count": 6,
   "metadata": {},
   "outputs": [],
   "source": [
    "#text = \"Enter a todo list:\"\n",
    "#while False:                        # \"False\"  it will stop the while loop or below code will not execute.\n",
    "#    text_1 = input(text)\n",
    "#    print(\"check\")\n",
    "#    print(\"Next......\")"
   ]
  },
  {
   "cell_type": "markdown",
   "metadata": {},
   "source": [
    "# # Append ( this method accumulate the results in list type.) "
   ]
  },
  {
   "cell_type": "code",
   "execution_count": 7,
   "metadata": {},
   "outputs": [],
   "source": [
    "#text = \"Enter a todo list:\"\n",
    "#result = []\n",
    "\n",
    "#while True:\n",
    "#    text_1 = input(text)\n",
    "#    result.append(text_1)         #this method accumulate the results in list type.\n",
    "#    print(result)"
   ]
  },
  {
   "cell_type": "markdown",
   "metadata": {},
   "source": [
    "#    Password concept :                          94- video"
   ]
  },
  {
   "cell_type": "code",
   "execution_count": 13,
   "metadata": {},
   "outputs": [
    {
     "name": "stdout",
     "output_type": "stream",
     "text": [
      "Enter Password:    blue\n",
      "Enter Password:    black\n",
      "Enter Password:    pass123\n",
      "password was correct\n"
     ]
    }
   ],
   "source": [
    "\n",
    "password = input(\"Enter Password:    \")\n",
    "\n",
    "while password != \"pass123\":   # '!='  it denotes not equal to , it is similar to 'while False:' \n",
    "     password = input(\"Enter Password:    \")       #  doubt here....\n",
    " \n",
    "print(\"password was correct\")    "
   ]
  },
  {
   "cell_type": "code",
   "execution_count": 131,
   "metadata": {},
   "outputs": [
    {
     "name": "stdout",
     "output_type": "stream",
     "text": [
      "Enter new password:     Vinay3366\n",
      "[True, True, True]\n",
      "Strong Password\n"
     ]
    }
   ],
   "source": [
    "# here we are using list method were append function works or held.\n",
    "\n",
    "password = input('Enter new password:     ')\n",
    "result = []                       #  \n",
    "\n",
    "if len(password)>=8:\n",
    "    result.append(True)\n",
    "else: \n",
    "    result.append(False)\n",
    "    \n",
    "digit = False\n",
    "for i in password:               # here 'i' refers to all the charecters in the password\n",
    "    if i.isdigit():              # here \"i\" checks if there is any number in the password if yes then prints digit =True\n",
    "        digit = True                                                                      # otherwise prints digit = False.       \n",
    "result.append(digit)        \n",
    "\n",
    "uppercase = False\n",
    "for i in password:\n",
    "    if i.isupper():\n",
    "        uppercase = True\n",
    "result.append(uppercase)\n",
    "\n",
    "print(result)\n",
    "\n",
    "if all(result) == True:\n",
    "    print('Strong Password')\n",
    "else:\n",
    "    print('Weak Password')\n",
    "\n"
   ]
  },
  {
   "cell_type": "code",
   "execution_count": 132,
   "metadata": {},
   "outputs": [
    {
     "name": "stdout",
     "output_type": "stream",
     "text": [
      "Enter new password:     Vinay3366\n",
      "{'length': True, 'digits': True, 'upper-case': True}\n",
      "dict_values([True, True, True])\n",
      "Strong Password\n"
     ]
    }
   ],
   "source": [
    "# here we are using dictionary method were append function does not held.\n",
    "\n",
    "\n",
    "password = input('Enter new password:     ')\n",
    "result = {}\n",
    "\n",
    "if len(password)>=8:\n",
    "    result['length'] = True\n",
    "else: \n",
    "    result['length'] = False\n",
    "    \n",
    "digit = False\n",
    "for i in password:               # here 'i' refers to all the charecters in the password\n",
    "    if i.isdigit():              # here \"i\" checks if there is any number in the password if yes then prints digit =True\n",
    "        digit = True                                                                      # otherwise prints digit = False.       \n",
    "result['digits'] = digit        \n",
    "\n",
    "uppercase = False\n",
    "for i in password:\n",
    "    if i.isupper():\n",
    "        uppercase = True\n",
    "result['upper-case'] = uppercase\n",
    "\n",
    "print(result)            # here it shows the all the keys and their values.\n",
    "print(result.values())    #  here it show only the values.\n",
    "\n",
    "if all(result.values()) == True:      # if all the values are True then it shows 'Strong password'       \n",
    "    print('Strong Password')\n",
    "else:\n",
    "    print('Weak Password')\n",
    "\n"
   ]
  },
  {
   "cell_type": "code",
   "execution_count": null,
   "metadata": {},
   "outputs": [],
   "source": []
  },
  {
   "cell_type": "code",
   "execution_count": 2,
   "metadata": {},
   "outputs": [
    {
     "name": "stdout",
     "output_type": "stream",
     "text": [
      "1\n",
      "2\n",
      "3\n",
      "4\n",
      "5\n",
      "6\n",
      "7\n",
      "8\n",
      "9\n",
      "10\n"
     ]
    }
   ],
   "source": [
    "x = 1\n",
    "while x<=10:\n",
    "    print(x)\n",
    "    x=x +1"
   ]
  },
  {
   "cell_type": "code",
   "execution_count": 8,
   "metadata": {},
   "outputs": [
    {
     "name": "stdout",
     "output_type": "stream",
     "text": [
      "what is u r name:   susan\n",
      "Susan\n"
     ]
    }
   ],
   "source": [
    "var1 = \"what is u r name:   \"\n",
    "var2 = input(var1)\n",
    "print(var2.capitalize())"
   ]
  },
  {
   "cell_type": "code",
   "execution_count": 6,
   "metadata": {},
   "outputs": [
    {
     "name": "stdout",
     "output_type": "stream",
     "text": [
      "susa\n"
     ]
    }
   ],
   "source": [
    "print(var2)"
   ]
  },
  {
   "cell_type": "code",
   "execution_count": null,
   "metadata": {},
   "outputs": [],
   "source": [
    "greeting = 'hello'\n",
    "print(greeting.upper())"
   ]
  },
  {
   "cell_type": "code",
   "execution_count": null,
   "metadata": {},
   "outputs": [],
   "source": [
    "# Udemy: python #  Programming Tool/Concept of the Day: How to Find the Code You Need"
   ]
  },
  {
   "cell_type": "code",
   "execution_count": null,
   "metadata": {},
   "outputs": [],
   "source": [
    "dir('hello')   #   By this command we get the list of all methods that can be applied on strings \"sdfsdkfsksl\""
   ]
  },
  {
   "cell_type": "code",
   "execution_count": null,
   "metadata": {
    "scrolled": true
   },
   "outputs": [],
   "source": [
    "help(\"hello\".title)  # with 'help' command we get the meaning of the method: ( .title)"
   ]
  },
  {
   "cell_type": "code",
   "execution_count": null,
   "metadata": {},
   "outputs": [],
   "source": []
  },
  {
   "cell_type": "markdown",
   "metadata": {},
   "source": [
    " #  Match & Case  with (\" Add, Show or  Exit  \")"
   ]
  },
  {
   "cell_type": "code",
   "execution_count": null,
   "metadata": {},
   "outputs": [],
   "source": [
    "xxa =[]                 #   *** very important programme ( Section 4 :- 32. ▶️ Todo List View and Program Exit #match-case)\n",
    "while True:\n",
    "    case_11 = input(\" Add, Show or Exit:   \")\n",
    "    match  case_11:\n",
    "        case 'Add':\n",
    "            xxb = input(\"Enter a todo list:   \")\n",
    "            xxa.append(xxb)\n",
    "        case \"Show\"    :\n",
    "            print(xxa)\n",
    "        case \"Exit\":\n",
    "            break"
   ]
  },
  {
   "cell_type": "code",
   "execution_count": null,
   "metadata": {},
   "outputs": [],
   "source": [
    "list_1 = []\n",
    "while True:\n",
    "     case_11 = input(\"Add, Show or Exit:   \")\n",
    "    match  case_11:\n",
    "        case 'Add':\n",
    "            Tea_ingredients = input(\"Enter Ingredients:   \")\n",
    "            list_1.append(Tea_ingredients)\n",
    "        case 'Show':\n",
    "            print(list_1)\n",
    "        case \"Exit\" :\n",
    "            break"
   ]
  },
  {
   "cell_type": "code",
   "execution_count": null,
   "metadata": {},
   "outputs": [],
   "source": [
    "password = input(\"Enter Password:    \")\n",
    "\n",
    "while password != \"pass123\":\n",
    "    password = input(\"Enter Password:    \")       #  doubt here....\n",
    "\n",
    "print(\"password was correct\")  "
   ]
  },
  {
   "cell_type": "code",
   "execution_count": 15,
   "metadata": {},
   "outputs": [],
   "source": [
    "list1 = []\n",
    "family = input(\"family name:  \")\n",
    "while family != \"list end\":\n",
    "    family = input(\"family name:  \")\n",
    "    list1.append(family)\n",
    "    print(list1)\n",
    "    \n",
    "    "
   ]
  },
  {
   "cell_type": "code",
   "execution_count": null,
   "metadata": {},
   "outputs": [],
   "source": [
    "list3 = []\n",
    "while True:\n",
    "    case_123 = input(\"add, show , Exit:   \")\n",
    "    match case_123:\n",
    "        case \"add\":\n",
    "            family = input(\"Enter family name:   \")\n",
    "            list3.append(family)\n",
    "        case \"show\":\n",
    "            \n",
    "            print(list3)\n",
    "        case \"Exit\":\n",
    "            break\n",
    "print(\"Bye....Bye......Bye\")            \n"
   ]
  },
  {
   "cell_type": "markdown",
   "metadata": {},
   "source": [
    " ####     working with 'for' loop."
   ]
  },
  {
   "cell_type": "code",
   "execution_count": 90,
   "metadata": {},
   "outputs": [
    {
     "name": "stdout",
     "output_type": "stream",
     "text": [
      "Add, Show , Exit:   Add\n",
      "Enter Subject name:   English\n",
      "Add, Show , Exit:   Add\n",
      "Enter Subject name:   Hindi\n",
      "Add, Show , Exit:   Add\n",
      "Enter Subject name:   Math\n",
      "Add, Show , Exit:   Show\n",
      "English\n",
      "Hindi\n",
      "Math\n",
      "Add, Show , Exit:   exit\n",
      "Hey, you entered an unknown command\n",
      "Add, Show , Exit:   Exit\n",
      "Bye....Bye......Bye\n"
     ]
    }
   ],
   "source": [
    "var1 = []\n",
    "while True:\n",
    "    case_123 = input(\"Add, Show , Exit:   \")\n",
    "    match case_123:\n",
    "        case \"Add\":\n",
    "            family = input(\"Enter Subject name:   \")\n",
    "            var1.append(family)\n",
    "        case \"Show\" | \"Display\":     # here we can enter any one of the command to the same result \"|\" \n",
    "            for item in var1:      # to get the result format in a row\n",
    "                item= item.title()       # if we want to display the sentance as title.\n",
    "                print(item)\n",
    "        case \"Exit\":\n",
    "            break\n",
    "        case whatever:               #  if we enter different word apart from Add, Show, Exit than below line get printed.\n",
    "            print(\"Hey, you entered an unknown command\")\n",
    "print(\"Bye....Bye......Bye\")    "
   ]
  },
  {
   "cell_type": "code",
   "execution_count": null,
   "metadata": {},
   "outputs": [],
   "source": []
  },
  {
   "cell_type": "code",
   "execution_count": 12,
   "metadata": {},
   "outputs": [
    {
     "name": "stdout",
     "output_type": "stream",
     "text": [
      "Name the country:    USA\n",
      "Hello\n",
      "Name the country:    India\n",
      "Namaste\n",
      "Name the country:    Germany\n",
      "Hallo\n",
      "Name the country:    Exit\n"
     ]
    }
   ],
   "source": [
    "country= []\n",
    "while True:\n",
    "    prompt = input( 'Name the country:    ')\n",
    "    country.append(prompt)\n",
    "    match prompt:\n",
    "        case 'USA':\n",
    "            print('Hello')\n",
    "        case \"India\":\n",
    "            print('Namaste')\n",
    "        case \"Germany\":\n",
    "            print('Hallo')\n",
    "        case 'Exit':\n",
    "            break\n",
    "print( 'Bye....')"
   ]
  },
  {
   "cell_type": "code",
   "execution_count": 17,
   "metadata": {},
   "outputs": [
    {
     "name": "stdout",
     "output_type": "stream",
     "text": [
      "add, show ,edit, Exit:   add\n",
      "Enter family name:   aryash\n",
      "add, show ,edit, Exit:   add\n",
      "Enter family name:   vinay\n",
      "add, show ,edit, Exit:   add\n",
      "Enter family name:   nithya\n",
      "add, show ,edit, Exit:   add\n",
      "Enter family name:   swarupa\n",
      "add, show ,edit, Exit:   add\n",
      "Enter family name:   anvika\n",
      "add, show ,edit, Exit:   add\n",
      "Enter family name:   pranay\n",
      "add, show ,edit, Exit:   edit\n",
      "Number of the family:   5\n",
      "new family member:  ranga\n",
      "add, show ,edit, Exit:   show\n",
      "['aryash', 'vinay', 'nithya', 'swarupa', 'anvika', 'ranga']\n",
      "add, show ,edit, Exit:   edit\n",
      "Number of the family:   4\n",
      "new family member:  Hanvika\n",
      "add, show ,edit, Exit:   show\n",
      "['aryash', 'vinay', 'nithya', 'swarupa', 'Hanvika', 'ranga']\n",
      "add, show ,edit, Exit:   exit\n",
      "Bye....Bye......Bye\n"
     ]
    }
   ],
   "source": [
    "****\n",
    "list3 = []\n",
    "while True:\n",
    "    Action = input(\"add, show ,edit, exit, whatever:   \")\n",
    "    match Action:\n",
    "        case \"add\":\n",
    "            family = input(\"Enter family name:   \")\n",
    "            list3.append(family)\n",
    "        case \"show\":\n",
    "            print(list3)\n",
    "        case 'edit':                 # replacing the family member with other name.\n",
    "            number = int(input('Number of the family:   '))\n",
    "            number = number - 1\n",
    "            list3[number] =input('new family member:  ')\n",
    "            \n",
    "        case \"exit\":\n",
    "            break\n",
    "        case whatever:\n",
    "            print(\"Hey, you entered an unknown command\")\n",
    "print(\"Bye....Bye......Bye\")            \n"
   ]
  },
  {
   "cell_type": "markdown",
   "metadata": {},
   "source": [
    "# List Indexing and Tuples"
   ]
  },
  {
   "cell_type": "code",
   "execution_count": 15,
   "metadata": {},
   "outputs": [
    {
     "name": "stdout",
     "output_type": "stream",
     "text": [
      "['apple', 'banana', 'watermellon', 'orange']\n",
      "['apple', 'banana', 'mango', 'orange']\n"
     ]
    }
   ],
   "source": [
    "var = ['apple', 'banana','watermellon','orange']\n",
    "print(var)\n",
    "var[2]= 'mango'\n",
    "print(var)"
   ]
  },
  {
   "cell_type": "code",
   "execution_count": null,
   "metadata": {},
   "outputs": [],
   "source": [
    "var = ['apple', 'banana','watermellon','orange']\n",
    "for item in var:\n",
    "    print(item.capitalize())\n",
    "    print(item.upper())"
   ]
  },
  {
   "cell_type": "code",
   "execution_count": 10,
   "metadata": {},
   "outputs": [
    {
     "name": "stdout",
     "output_type": "stream",
     "text": [
      "11\n",
      "34\n",
      "98\n",
      "43\n",
      "45\n",
      "54\n",
      "54\n"
     ]
    }
   ],
   "source": [
    "colors = [11,34,98,43,45,54,54]\n",
    "for item in colors:\n",
    "    print(item)"
   ]
  },
  {
   "cell_type": "code",
   "execution_count": 35,
   "metadata": {},
   "outputs": [
    {
     "name": "stdout",
     "output_type": "stream",
     "text": [
      "number:  10\n",
      "10\n",
      "10apple\n",
      "10101010101010101010\n",
      "Bye.....Bye.....Bye.....Bye.....Bye.....\n",
      "1009\n"
     ]
    }
   ],
   "source": [
    "a= input('number:  ')\n",
    "print(a)\n",
    "type(a)      # here its a string \"\"\n",
    "b = a+ 'apple'\n",
    "print(b)\n",
    "\n",
    "c = a* 10\n",
    "print(c)\n",
    "\n",
    "print('Bye.....' * 5)\n",
    "\n",
    "d= int(a)        # here \"a\"  changed into integer.\n",
    "e= d + 999\n",
    "print(e)"
   ]
  },
  {
   "cell_type": "code",
   "execution_count": 37,
   "metadata": {},
   "outputs": [
    {
     "data": {
      "text/plain": [
       "['aryash', 'vinay', 'nithya', 'swarupa', 'Hanvika', 'ranga']"
      ]
     },
     "execution_count": 37,
     "metadata": {},
     "output_type": "execute_result"
    }
   ],
   "source": [
    "list3"
   ]
  },
  {
   "cell_type": "code",
   "execution_count": 42,
   "metadata": {},
   "outputs": [
    {
     "data": {
      "text/plain": [
       "['aryash', 'vinay', 'nithya', 'swarupa', 'Hanvika', 'riansh']"
      ]
     },
     "execution_count": 42,
     "metadata": {},
     "output_type": "execute_result"
    }
   ],
   "source": [
    "list3.__setitem__(5,'riansh')\n",
    "list3\n"
   ]
  },
  {
   "cell_type": "code",
   "execution_count": 43,
   "metadata": {},
   "outputs": [
    {
     "data": {
      "text/plain": [
       "'Hanvika'"
      ]
     },
     "execution_count": 43,
     "metadata": {},
     "output_type": "execute_result"
    }
   ],
   "source": [
    "list3.__getitem__(4)"
   ]
  },
  {
   "cell_type": "code",
   "execution_count": null,
   "metadata": {},
   "outputs": [],
   "source": []
  },
  {
   "cell_type": "code",
   "execution_count": 36,
   "metadata": {},
   "outputs": [
    {
     "data": {
      "text/plain": [
       "'green'"
      ]
     },
     "execution_count": 36,
     "metadata": {},
     "output_type": "execute_result"
    }
   ],
   "source": [
    "grass = \"green            \"\n",
    "grass.strip()             #  It removes the space after green temporary ."
   ]
  },
  {
   "cell_type": "code",
   "execution_count": 2,
   "metadata": {},
   "outputs": [
    {
     "data": {
      "text/plain": [
       "'green            '"
      ]
     },
     "execution_count": 2,
     "metadata": {},
     "output_type": "execute_result"
    }
   ],
   "source": [
    "grass"
   ]
  },
  {
   "cell_type": "code",
   "execution_count": 3,
   "metadata": {},
   "outputs": [],
   "source": [
    "grass = grass.strip() # It removes the space after green permanently  ."
   ]
  },
  {
   "cell_type": "code",
   "execution_count": 4,
   "metadata": {},
   "outputs": [
    {
     "data": {
      "text/plain": [
       "'green'"
      ]
     },
     "execution_count": 4,
     "metadata": {},
     "output_type": "execute_result"
    }
   ],
   "source": [
    "grass"
   ]
  },
  {
   "cell_type": "code",
   "execution_count": null,
   "metadata": {},
   "outputs": [],
   "source": [
    "# '+=' (Addition assignment): This operator is used to add the value \n",
    "on the right to the variable on the left and then update the value of the variable."
   ]
  },
  {
   "cell_type": "code",
   "execution_count": null,
   "metadata": {},
   "outputs": [],
   "source": [
    "# \"-=\" (Subtraction assignment): This operator is used to subtract the right side value \n",
    "from the left side variable and then update the value of the variable."
   ]
  },
  {
   "cell_type": "markdown",
   "metadata": {},
   "source": [
    "#####         'replace'  method in strings   ###########"
   ]
  },
  {
   "cell_type": "code",
   "execution_count": 54,
   "metadata": {},
   "outputs": [
    {
     "name": "stdout",
     "output_type": "stream",
     "text": [
      "1.Raw Data.txt\n"
     ]
    }
   ],
   "source": [
    "filename = '1.Raw Data.txt'  # here the value is in string and we want to replace '.' with '--' after 1.\n",
    "print(filename)"
   ]
  },
  {
   "cell_type": "code",
   "execution_count": 51,
   "metadata": {},
   "outputs": [
    {
     "name": "stdout",
     "output_type": "stream",
     "text": [
      "1--Raw Data--txt\n"
     ]
    }
   ],
   "source": [
    " # filename = filename.replace('.','--')  \n",
    "print(filename)"
   ]
  },
  {
   "cell_type": "code",
   "execution_count": 55,
   "metadata": {},
   "outputs": [
    {
     "name": "stdout",
     "output_type": "stream",
     "text": [
      "1-Raw Data.txt\n"
     ]
    }
   ],
   "source": [
    "filename = filename.replace('.','-', 1)  # here '1'  means make changes at 1st occurence only.\n",
    "print(filename)"
   ]
  },
  {
   "cell_type": "code",
   "execution_count": 56,
   "metadata": {},
   "outputs": [
    {
     "name": "stdout",
     "output_type": "stream",
     "text": [
      "['1.Raw Data.txt', '2.Reports.txt', '3.Presentations.txt']\n"
     ]
    }
   ],
   "source": [
    "Data = ['1.Raw Data.txt', '2.Reports.txt', '3.Presentations.txt']\n",
    "print(Data)"
   ]
  },
  {
   "cell_type": "code",
   "execution_count": 57,
   "metadata": {},
   "outputs": [
    {
     "name": "stdout",
     "output_type": "stream",
     "text": [
      "1-Raw Data.txt\n",
      "2-Reports.txt\n",
      "3-Presentations.txt\n"
     ]
    }
   ],
   "source": [
    "for file_1 in Data:\n",
    "    file_1 = file_1.replace('.','-', 1)\n",
    "    print(file_1)"
   ]
  },
  {
   "cell_type": "code",
   "execution_count": 20,
   "metadata": {},
   "outputs": [
    {
     "name": "stdout",
     "output_type": "stream",
     "text": [
      "Sen\n",
      "Enter rank number:  1\n",
      "John\n"
     ]
    }
   ],
   "source": [
    "ranking = ['John', 'Sen', 'Lisa']\n",
    "print(ranking[1])\n",
    "\n",
    "number = int(input('Enter rank number:  '))\n",
    "number = number - 1\n",
    "print(ranking[number])"
   ]
  },
  {
   "cell_type": "code",
   "execution_count": 24,
   "metadata": {},
   "outputs": [
    {
     "name": "stdout",
     "output_type": "stream",
     "text": [
      "Enter a name:  Sen\n",
      "1\n"
     ]
    }
   ],
   "source": [
    "print(ranking.index(input('Enter a name:  ')))    # here Sen is 2nd rank hence wrong answer.\n"
   ]
  },
  {
   "cell_type": "code",
   "execution_count": 25,
   "metadata": {},
   "outputs": [
    {
     "name": "stdout",
     "output_type": "stream",
     "text": [
      "1\n"
     ]
    }
   ],
   "source": [
    "print(ranking.index('Sen'))"
   ]
  },
  {
   "cell_type": "code",
   "execution_count": 77,
   "metadata": {},
   "outputs": [
    {
     "name": "stdout",
     "output_type": "stream",
     "text": [
      "Enter a name:  Sen\n",
      "2\n"
     ]
    }
   ],
   "source": [
    "rank_number = ranking.index(input('Enter a name:  ')) + 1\n",
    "\n",
    "print(rank_number)"
   ]
  },
  {
   "cell_type": "markdown",
   "metadata": {},
   "source": [
    "#  Enumeration ,for loop and f-strings"
   ]
  },
  {
   "cell_type": "code",
   "execution_count": 28,
   "metadata": {},
   "outputs": [
    {
     "name": "stdout",
     "output_type": "stream",
     "text": [
      "['fish#$', 'dog#$', 'parrot#$\\n', 'deer$\\n', 'goat\\n', 'hen\\n']\n"
     ]
    }
   ],
   "source": [
    "list1 =['fish#$','dog#$', 'parrot#$''\\n','deer$''\\n','goat''\\n','hen''\\n'] # '\\n'= next line\n",
    "print(list1)"
   ]
  },
  {
   "cell_type": "code",
   "execution_count": 29,
   "metadata": {},
   "outputs": [
    {
     "name": "stdout",
     "output_type": "stream",
     "text": [
      "0 fish#$\n",
      "1 dog#$\n",
      "2 parrot#$\n",
      "\n",
      "3 deer$\n",
      "\n",
      "4 goat\n",
      "\n",
      "5 hen\n",
      "\n"
     ]
    }
   ],
   "source": [
    "for index, item in enumerate (list1):            # showing index to the items.\n",
    "    print(index,item)"
   ]
  },
  {
   "cell_type": "code",
   "execution_count": 30,
   "metadata": {},
   "outputs": [
    {
     "name": "stdout",
     "output_type": "stream",
     "text": [
      "['fish', 'dog', 'parrot', 'deer', 'goat', 'hen']\n"
     ]
    }
   ],
   "source": [
    "new_list = [item.strip('#$\\n') for index, item in enumerate(list1)]\n",
    "print(new_list)      # print command not given for index."
   ]
  },
  {
   "cell_type": "code",
   "execution_count": 31,
   "metadata": {},
   "outputs": [
    {
     "name": "stdout",
     "output_type": "stream",
     "text": [
      "['fish', 'dog', 'parrot', 'deer', 'goat', 'hen']\n"
     ]
    }
   ],
   "source": [
    "new_list = [item.strip('#$\\n') for item in list1]\n",
    "print(new_list)"
   ]
  },
  {
   "cell_type": "code",
   "execution_count": 106,
   "metadata": {},
   "outputs": [
    {
     "name": "stdout",
     "output_type": "stream",
     "text": [
      "1-fish\n",
      "2-dog\n",
      "3-parrot\n",
      "4-deer\n",
      "5-goat\n",
      "6-hen\n"
     ]
    }
   ],
   "source": [
    "for index, item in enumerate (list1): \n",
    "    A = item.strip('#$\\n')\n",
    "    B = f\"{index +1}-{A}\"\n",
    "    print(B)"
   ]
  },
  {
   "cell_type": "code",
   "execution_count": 91,
   "metadata": {},
   "outputs": [
    {
     "name": "stdout",
     "output_type": "stream",
     "text": [
      "Add, Show , Exit:   Add\n",
      "Enter Subject name:   English\n",
      "Add, Show , Exit:   Add\n",
      "Enter Subject name:   Hindi\n",
      "Add, Show , Exit:   Add\n",
      "Enter Subject name:   Math\n",
      "Add, Show , Exit:   Add\n",
      "Enter Subject name:   Science\n",
      "Add, Show , Exit:   Show\n",
      "English\n",
      "Hindi\n",
      "Math\n",
      "Science\n",
      "Add, Show , Exit:   Exit\n",
      "Bye....Bye......Bye\n"
     ]
    }
   ],
   "source": [
    "var1 = []\n",
    "while True:\n",
    "    case12 = input(\"Add, Show , Exit:   \")\n",
    "    match case12:\n",
    "        case \"Add\":\n",
    "            subjects = input(\"Enter Subject name:   \")\n",
    "            var1.append(subjects + '\\n')\n",
    "        case \"Show\" | \"Display\":     # here we can enter any one of the command to the same result \"|\" \n",
    "            for item in var1:      # to get the result format in a row\n",
    "                item= item.title()       # if we want to display the sentance as title.\n",
    "                print(item)\n",
    "        case \"Exit\":\n",
    "            break\n",
    "        case whatever:               #  if we enter different word apart from Add, Show, Exit than below line get printed.\n",
    "            print(\"Hey, you entered an unknown command\")\n",
    "print(\"Bye....Bye......Bye\")   "
   ]
  },
  {
   "cell_type": "code",
   "execution_count": 93,
   "metadata": {},
   "outputs": [
    {
     "name": "stdout",
     "output_type": "stream",
     "text": [
      "Add, Show ,Display, Exit:   Add\n",
      "Enter Subject name:   English\n",
      "Add, Show ,Display, Exit:   Add\n",
      "Enter Subject name:   Hindi\n",
      "Add, Show ,Display, Exit:   Add\n",
      "Enter Subject name:   Math\n",
      "Add, Show ,Display, Exit:   Add\n",
      "Enter Subject name:   Science\n",
      "Add, Show ,Display, Exit:   Display\n",
      "0 - English\n",
      "1 - Hindi\n",
      "2 - Math\n",
      "3 - Science\n",
      "Add, Show ,Display, Exit:   Exit\n",
      "Bye....Bye......Bye\n"
     ]
    }
   ],
   "source": [
    "var1 = []\n",
    "while True:\n",
    "    var2 = input(\"Add, Show ,Display, Exit:   \")\n",
    "    match var2:\n",
    "        case \"Add\":\n",
    "            family = input(\"Enter Subject name:   \")\n",
    "            var1.append(family + '\\n')\n",
    "        case \"Show\" | \"Display\":     # here we can enter any one of the command to the same result \"|\" \n",
    "            for index,item in enumerate(var1):      # to get the index and the items as result.\n",
    "                item= item.title()       # if we want to display the sentance as title.\n",
    "                print(index,'-',item)\n",
    "            # or print(f\"{index}-{item}\")   # in a string if we want to use the values of the variable, we use f-strings \"{}\" \n",
    "        case \"Exit\":\n",
    "            break\n",
    "        case whatever:               #  if we enter different word apart from Add, Show, Exit than below line get printed.\n",
    "            print(\"Hey, you entered an unknown command\")\n",
    "print(\"Bye....Bye......Bye\")   "
   ]
  },
  {
   "cell_type": "code",
   "execution_count": 95,
   "metadata": {},
   "outputs": [
    {
     "name": "stdout",
     "output_type": "stream",
     "text": [
      "add, show ,edit,complete, exit:   add\n",
      "Enter family name:   bottle\n",
      "add, show ,edit,complete, exit:   add\n",
      "Enter family name:   filter\n",
      "add, show ,edit,complete, exit:   show\n",
      "0-bottle\n",
      "1-filter\n",
      "add, show ,edit,complete, exit:   completed\n",
      "Number of the family:   1\n",
      "Remove the member:   filter\n",
      "add, show ,edit,complete, exit:   show\n",
      "0-bottle\n",
      "add, show ,edit,complete, exit:   exit\n",
      "Bye....Bye......Bye\n"
     ]
    }
   ],
   "source": [
    "var1 = []\n",
    "while True:\n",
    "    var2 = input(\"add, show ,edit,completed, exit:   \")\n",
    "    match var2:\n",
    "        case \"add\":\n",
    "            family = input(\"Enter family name:   \")\n",
    "            var1.append(family + '\\n')\n",
    "        case \"show\":\n",
    "            for index,item in enumerate(var1):      # to get the index and the items as result.\n",
    "                #item= item.title()       # if we want to display the sentance as title.\n",
    "                print(f\"{index}-{item}\") \n",
    "               # print(f\"{index + 1}-{item}\")   # \"+1\" = so that the index start from 1 not with 0.\n",
    "        case 'edit':                 # replacing the family member with other name.\n",
    "            number = int(input('Number of the family:   '))\n",
    "            number = number - 1\n",
    "            var1[number] =input('new family member:  ')\n",
    "        case 'completed': \n",
    "            number = int(input('Number of the family:   '))\n",
    "             # var1.pop(number)   # The pop() function removes the last element or the element based on the index given..\n",
    "            var1.remove(input('Remove the member:   ')) # remove() function removes the first occurrence(temporary) of the specified element.\n",
    "                                          # clear() =  this method removes all the elements from the list.          \n",
    "        case \"exit\":\n",
    "            break\n",
    "        case whaterver:\n",
    "            print(\"Hey, you entered an unknown command\")\n",
    "print(\"Bye....Bye......Bye\")   "
   ]
  },
  {
   "cell_type": "code",
   "execution_count": 99,
   "metadata": {},
   "outputs": [
    {
     "name": "stdout",
     "output_type": "stream",
     "text": [
      "0 H\n",
      "1 e\n",
      "2 l\n",
      "3 l\n",
      "4 o\n"
     ]
    }
   ],
   "source": [
    "for i,j in enumerate('Hello'):\n",
    "    print(i,j)      #   here i = index and j = variable."
   ]
  },
  {
   "cell_type": "code",
   "execution_count": 115,
   "metadata": {},
   "outputs": [
    {
     "data": {
      "text/plain": [
       "'Hellx'"
      ]
     },
     "execution_count": 115,
     "metadata": {},
     "output_type": "execute_result"
    }
   ],
   "source": [
    "\"Hello\".replace('o','x')"
   ]
  },
  {
   "cell_type": "code",
   "execution_count": 124,
   "metadata": {},
   "outputs": [
    {
     "name": "stdout",
     "output_type": "stream",
     "text": [
      "['fish', 'cow', 'dog', 'parrot', 'deer', 'goat', 'hen']\n",
      "['cow', 'deer', 'dog', 'fish', 'goat', 'hen', 'parrot']\n",
      "['parrot', 'hen', 'goat', 'fish', 'dog', 'deer', 'cow']\n"
     ]
    }
   ],
   "source": [
    "list1 =['fish','cow','dog', 'parrot','deer','goat','hen']\n",
    "print(list1)\n",
    "list1.sort()       # here it shows ascending order list\n",
    "print(list1)\n",
    "list1.sort(reverse = True)   # here it shows descending order list.\n",
    "print(list1)"
   ]
  },
  {
   "cell_type": "code",
   "execution_count": 35,
   "metadata": {},
   "outputs": [],
   "source": [
    "filenames = ['#document', '#report', '#presentation']"
   ]
  },
  {
   "cell_type": "code",
   "execution_count": 36,
   "metadata": {},
   "outputs": [
    {
     "name": "stdout",
     "output_type": "stream",
     "text": [
      "0-#Document.txt\n",
      "1-#Report.txt\n",
      "2-#Presentation.txt\n"
     ]
    }
   ],
   "source": [
    "for i , item in enumerate(filenames):\n",
    "    print(f\"{i}-{item.title()}\"\".txt\")"
   ]
  },
  {
   "cell_type": "code",
   "execution_count": 38,
   "metadata": {},
   "outputs": [
    {
     "name": "stdout",
     "output_type": "stream",
     "text": [
      "['-document--doc', '-report--doc', '-presentation--doc']\n"
     ]
    }
   ],
   "source": [
    "A1 = [x.replace('#','-')+'--doc' for x in filenames]\n",
    "print(A1)"
   ]
  },
  {
   "cell_type": "code",
   "execution_count": 136,
   "metadata": {},
   "outputs": [
    {
     "name": "stdout",
     "output_type": "stream",
     "text": [
      "Enter the index of the IP you want:   1\n",
      "Enter the index of the IP you want:   0\n",
      "100.122.133.105\n"
     ]
    }
   ],
   "source": [
    "ips = ['100.122.133.105', '100.122.133.111']\n",
    "for index, item in enumerate(ips):\n",
    "    \n",
    "    number= int(input('Enter the index of the IP you want:   '))\n",
    "print(ips[number])    \n"
   ]
  },
  {
   "cell_type": "code",
   "execution_count": 138,
   "metadata": {},
   "outputs": [
    {
     "name": "stdout",
     "output_type": "stream",
     "text": [
      "Enter the index of the IP you want:  1\n",
      "You chose 100.122.133.111\n"
     ]
    }
   ],
   "source": [
    "ips = ['100.122.133.105', '100.122.133.111']               \n",
    "user_choice = int(input(\"Enter the index of the IP you want:  \"))\n",
    "message = f\"You chose {ips[user_choice]}\"\n",
    "print(message)"
   ]
  },
  {
   "cell_type": "markdown",
   "metadata": {},
   "source": [
    "#  Working with text files &  \"With & as\"       ( video numbers: 64,65 )"
   ]
  },
  {
   "cell_type": "code",
   "execution_count": 25,
   "metadata": {},
   "outputs": [
    {
     "name": "stdout",
     "output_type": "stream",
     "text": [
      "D:\\Data Science\\Directory_A\n"
     ]
    }
   ],
   "source": [
    "import os\n",
    "print(os.getcwd())"
   ]
  },
  {
   "cell_type": "code",
   "execution_count": 26,
   "metadata": {},
   "outputs": [
    {
     "name": "stdout",
     "output_type": "stream",
     "text": [
      "D:\\Data Science\\Directory_A\n"
     ]
    }
   ],
   "source": [
    "os.chdir('D:\\Data Science\\Directory_A')\n",
    "print(os.getcwd())"
   ]
  },
  {
   "cell_type": "code",
   "execution_count": null,
   "metadata": {},
   "outputs": [],
   "source": [
    "#  Explination for below code check 61st  video in \"Python Mega Course: Learn Python in 60 Days,\""
   ]
  },
  {
   "cell_type": "code",
   "execution_count": null,
   "metadata": {},
   "outputs": [],
   "source": [
    "# write() method takes one string as an argument and writes it to the text file.\n",
    "# writelines() method is used to write multiple strings to a file.\n",
    "# read() method reads the entire contents of a file and returns it as a string.\n",
    "# readline()  method reads a single line from a file and returns it as a string\n",
    "# readlines() method reads the entire contents of a file and returns it as a list of strings,\n",
    "                                                            #where each element of the list is a single line of the file.\n",
    "# 'a' = open for appending,the pointer is positioned at the end of the file.If the file does not exists\n",
    "                                                          #it will create new file for writing data.    \n",
    "# 'r+' = read and write to a file.\n",
    "# to display the result in cell do \" #file1.close()\"\n",
    "# Always'close' the file which is open otherwise it will crash the application.\n",
    "# 'with, as' = here we don't need to close the file hence its recommended.\n",
    "#### we use 'r'before path or '\\\\'in path, so that python doen't misunderstood with '\\n'. \n"
   ]
  },
  {
   "cell_type": "code",
   "execution_count": 50,
   "metadata": {},
   "outputs": [],
   "source": [
    "# to display the result in cell do \"#file1.close()\"\n",
    "\n",
    "file1 = open(\"D:\\\\Data Science\\\\Directory_A\\\\practice_txt_files1\\\\content-1.txt\",'w')    # w = write      #here it opens the new file or existing file with name 'content.txt'\n",
    "file1.writelines(['apple\\n' ,'banana\\n', 'ornage\\n',\"kite\\n\"])\n",
    "file1.write(\"Hi Nithya , what did you like about the school?\"'\\n')\n",
    "file1.close()   "
   ]
  },
  {
   "cell_type": "code",
   "execution_count": 51,
   "metadata": {},
   "outputs": [],
   "source": [
    "with open(\"D:\\\\Data Science\\\\Directory_A\\\\practice_txt_files1\\\\content-1.txt\",'a') as file1:\n",
    "    file1.writelines(['Door''\\n','Window''\\n','Locks''\\n','Gate']) \n",
    "     # here we donot need to close the file as we used \"with, as\""
   ]
  },
  {
   "cell_type": "code",
   "execution_count": 52,
   "metadata": {},
   "outputs": [],
   "source": [
    "file1 = open(\"D:\\\\Data Science\\\\Directory_A\\\\practice_txt_files1\\\\content-1.txt\",\"r\")     # r = read only\n",
    "file1.readlines()      # reads the entire contents of a file and returns it as a list of strings.\n",
    "file1.close()       #   this command will close the file and the result will not been shown below.\n",
    "             "
   ]
  },
  {
   "cell_type": "code",
   "execution_count": 55,
   "metadata": {},
   "outputs": [
    {
     "name": "stdout",
     "output_type": "stream",
     "text": [
      "apple\n",
      "banana\n",
      "ornage\n",
      "kite\n",
      "Hi Nithya , what did you like about the school?\n",
      "Door\n",
      "Window\n",
      "Locks\n",
      "Gate\n"
     ]
    }
   ],
   "source": [
    "# OR  \n",
    "with open(\"D:\\\\Data Science\\\\Directory_A\\\\practice_txt_files1\\\\content-1.txt\",\"r\") as file1:\n",
    "     \n",
    "    print(file1.read())\n",
    "    \n",
    "        # here we donot need to close the file as we used \"with, as\""
   ]
  },
  {
   "cell_type": "code",
   "execution_count": 131,
   "metadata": {},
   "outputs": [],
   "source": [
    "##   to write the file.\n",
    "file1 = open(\"D:\\\\Data Science\\\\Directory_A\\\\practice_txt_files1\\\\content-2.txt\",'w')  # to write the file.\n",
    "file1.write(\"Hi Aryash , what did you like about the school?\"'\\n')\n",
    "file1.write(\"Hi Aryash , what did you like about the playground?\")\n",
    "file1.write('Hi Nithya, did you took aryash to the school?')\n",
    "\n",
    "file1.writelines(['table''\\n','pen''\\n','chair''\\n','writing pad''\\n', 'books''\\n','table light''\\n'])\n",
    "file.close()\n",
    "\n",
    "# # to read the file \n",
    "file1 = open(\"D:\\\\Data Science\\\\Directory_A\\\\practice_txt_files1\\\\content-2.txt\",\"r\")  \n",
    "#file1.readline()  #this command will give the first single line from a file.( to get all lines we should use \"while loop\")        \n",
    "file1.readlines()  \n",
    "#file1.read()      # reads the entire contents of a file and returns it as a string.\n",
    "file1.close()                 #   this command will close the file and the result will not been shown below."
   ]
  },
  {
   "cell_type": "code",
   "execution_count": 60,
   "metadata": {},
   "outputs": [
    {
     "name": "stdout",
     "output_type": "stream",
     "text": [
      "Chicken Biryani\n",
      "Hi Aryash , what did you like about the school?\n",
      "Hi Aryash , what did you like about the playground?Hi Nithya, did you took aryash to the school?table\n",
      "pen\n",
      "chair\n",
      "writing pad\n",
      "books\n",
      "table light\n"
     ]
    }
   ],
   "source": [
    "  ##   the while loop continues to read lines from the file until readline returns an empty string,\n",
    "                                                                                      #indicating the end of the file. \n",
    "file1 = open(\"D:\\\\Data Science\\\\Directory_A\\\\practice_txt_files1\\\\content-2.txt\",\"r\")  # to read the file .\n",
    "print(\"Chicken Biryani\")  # it will not save in the 'content-2.txt'\n",
    "\n",
    "line = file1.read()\n",
    "while line:                     # while loop is used  to repeat the readline method again ana again.       \n",
    "    print(line.strip())      # The strip method is used to remove the 'line end command' from each line.\n",
    "    line = file1.read()\n",
    "file1.close()                 #   this command will close the file and the result will not been shown below."
   ]
  },
  {
   "cell_type": "code",
   "execution_count": 78,
   "metadata": {},
   "outputs": [
    {
     "name": "stdout",
     "output_type": "stream",
     "text": [
      "['Hi Aryash , What Did You Like About The School?', 'Hi Aryash , What Did You Like About The Playground?Hi Nithya, Did You Took Aryash To The School?Table', 'Pen', 'Chair', 'Writing Pad', 'Books', 'Table Light']\n"
     ]
    }
   ],
   "source": [
    "file1 = open(\"D:\\\\Data Science\\\\Directory_A\\\\practice_txt_files1\\\\content-2.txt\",\"r\")\n",
    "\n",
    "file2 = [item.strip('\\n').title() for  item in file1]\n",
    "print(file2)\n",
    "file1.close()\n"
   ]
  },
  {
   "cell_type": "code",
   "execution_count": 77,
   "metadata": {},
   "outputs": [
    {
     "name": "stdout",
     "output_type": "stream",
     "text": [
      "1-Hi Aryash , What Did You Like About The School?\n",
      "2-Hi Aryash , What Did You Like About The Playground?Hi Nithya, Did You Took Aryash To The School?Table\n",
      "3-Pen\n",
      "4-Chair\n",
      "5-Writing Pad\n",
      "6-Books\n",
      "7-Table Light\n"
     ]
    }
   ],
   "source": [
    "# Or \n",
    "\n",
    "file1 = open(\"D:\\\\Data Science\\\\Directory_A\\\\practice_txt_files1\\\\content-2.txt\",\"r\")\n",
    "for index,item in enumerate(file1):\n",
    "    item = item.strip('\\n').title()\n",
    "    #row = f'{index +1}-{item}'\n",
    "    print(f'{index +1}-{item}')\n",
    "file1.close()    \n",
    "\n",
    "    "
   ]
  },
  {
   "cell_type": "code",
   "execution_count": 27,
   "metadata": {},
   "outputs": [
    {
     "name": "stdout",
     "output_type": "stream",
     "text": [
      "add, show, exit:   add\n",
      "Enter the family name:    vinay\n",
      "add, show, exit:   add\n",
      "Enter the family name:    nithya\n",
      "add, show, exit:   add\n",
      "Enter the family name:    aryash\n",
      "add, show, exit:   exit\n",
      "Bye....Bye......Bye\n"
     ]
    }
   ],
   "source": [
    "list4 = []   # this will rewrite the old family names with new names. \n",
    "                                                    #by removing this line will add the new names with the old names.\n",
    "while True:\n",
    "        Action = input('add, show, exit:   ')\n",
    "        match Action:\n",
    "            case \"add\":\n",
    "                family = input(\"Enter the family name:    \")  + \"\\n\"\n",
    "                list4.append(family + '\\n')\n",
    " # here we store the variable'list4' values permanently in text document'family-1.txt'               \n",
    "                file = open(r'D:\\Data Science\\Directory_A\\practice_txt_files1\\family-4.txt', 'w')   \n",
    "    # here a new file got created.\n",
    "                file.writelines(list4) # here  items get copied from list4 to text file.\n",
    "                file = open(r'D:\\Data Science\\Directory_A\\practice_txt_files1\\family-4.txt', 'r')\n",
    "                file.readlines()\n",
    "                file.close()\n",
    "                \n",
    "            case \"show\": \n",
    "                 print(list4)\n",
    "            case \"exit\":\n",
    "                  break\n",
    "            case whaterver:\n",
    "                 print(\"Hey, you entered an unknown command\")\n",
    "print(\"Bye....Bye......Bye\") \n",
    "                "
   ]
  },
  {
   "cell_type": "markdown",
   "metadata": {},
   "source": [
    "### by removing \"list4= [ ]\" Adding new data with old data in text files. {video :61}"
   ]
  },
  {
   "cell_type": "code",
   "execution_count": 1,
   "metadata": {},
   "outputs": [
    {
     "name": "stdout",
     "output_type": "stream",
     "text": [
      "add, show, exit:   add\n",
      "Enter the family name:    aryash\n",
      "add, show, exit:   show\n",
      "['vinay\\n', 'nithya\\n', 'aryash\\n', 'aryash\\n\\n']\n",
      "add, show, exit:   add\n",
      "Enter the family name:    ganesh\n",
      "add, show, exit:   show\n",
      "['vinay\\n', 'nithya\\n', 'aryash\\n', 'aryash\\n', '\\n', 'ganesh\\n\\n']\n",
      "add, show, exit:   exit\n",
      "Bye....Bye......Bye\n"
     ]
    }
   ],
   "source": [
    " # list4 = []   # this will rewrite the old family names with new names. \n",
    "                                #by removing this line will add the new names with the old names.\n",
    "while True:\n",
    "        Action = input('add, show, exit:   ')\n",
    "        match Action:\n",
    "            case \"add\":\n",
    "                family = input(\"Enter the family name:    \")  + \"\\n\"\n",
    "                \n",
    "                file = open(r'D:\\Data Science\\Directory_A\\practice_txt_files1\\family-4.txt', 'r')\n",
    "                data = file.readlines()\n",
    "                \n",
    "                data.append(family + '\\n')\n",
    "                \n",
    "                file = open(r'D:\\Data Science\\Directory_A\\practice_txt_files1\\family-4.txt', 'w')   \n",
    "                file.writelines(data) \n",
    "                \n",
    "                file = open(r'D:\\Data Science\\Directory_A\\practice_txt_files1\\family-4.txt', 'r')\n",
    "                file.readlines()\n",
    "                file.close()\n",
    "                \n",
    "            case \"show\": \n",
    "                 print(data)\n",
    "            case \"exit\":\n",
    "                  break\n",
    "            case whaterver:\n",
    "                 print(\"Hey, you entered an unknown command\")\n",
    "print(\"Bye....Bye......Bye\") "
   ]
  },
  {
   "cell_type": "code",
   "execution_count": 22,
   "metadata": {},
   "outputs": [],
   "source": [
    "#### we use 'r' before path or '\\\\'in path, so that python doen't misunderstood with '\\n'.      "
   ]
  },
  {
   "cell_type": "code",
   "execution_count": null,
   "metadata": {},
   "outputs": [],
   "source": []
  },
  {
   "cell_type": "markdown",
   "metadata": {},
   "source": [
    "# Here data is saved in text file 'content-5.txt'."
   ]
  },
  {
   "cell_type": "code",
   "execution_count": 6,
   "metadata": {},
   "outputs": [
    {
     "name": "stdout",
     "output_type": "stream",
     "text": [
      "add, show,edit,complete, exit:   show\n",
      "['vinay\\n', 'nithya\\n', 'aryash\\n', 'aryash\\n', 'ganesh\\n\\n', 'anvika\\n']\n",
      "add, show,edit,complete, exit:   add\n",
      "Enter the family name:    swarupa\n",
      "add, show,edit,complete, exit:   show\n",
      "['vinay\\n', 'nithya\\n', 'aryash\\n', 'aryash\\n', 'ganesh\\n', '\\n', 'anvika\\n', 'swarupa\\n\\n']\n",
      "add, show,edit,complete, exit:   complete\n",
      "family member's number to be edited:  5\n",
      "family member ganesh was removed from the data.\n",
      "add, show,edit,complete, exit:   show\n",
      "['vinay\\n', 'nithya\\n', 'aryash\\n', 'aryash\\n', '\\n', 'anvika\\n', 'swarupa\\n', '\\n']\n",
      "add, show,edit,complete, exit:   exit\n",
      "Bye....Bye......Bye\n"
     ]
    }
   ],
   "source": [
    "\n",
    "while True:\n",
    "        Action = input('add, show,edit,complete, exit:   ')\n",
    "        match Action:\n",
    "            case \"add\":\n",
    "                family = input(\"Enter the family name:    \")  + \"\\n\"\n",
    "                \n",
    "                file = open(\"D:\\\\Data Science\\\\Directory_A\\\\practice_txt_files1\\\\content-5.txt\", 'r')\n",
    "                data = file.readlines()\n",
    "                \n",
    "                data.append(family + '\\n')\n",
    "                \n",
    "                file = open(r\"D:\\Data Science\\Directory_A\\practice_txt_files1\\content-5.txt\", 'w')   # here a new file got created.\n",
    "                                  # here'r' is used to diffrenciate with '\\n'              \n",
    "                file.writelines(data)\n",
    "                \n",
    "                file.close()\n",
    "                \n",
    "            case \"show\": \n",
    "                 print(data)\n",
    "            case \"edit\":\n",
    "                number = int(input(\"family member's number to be edited:  \"))\n",
    "                number = number-1\n",
    "                with open(r\"D:\\Data Science\\Directory_A\\practice_txt_files1\\content-5.txt\", 'r') as file:\n",
    "                    data = file.readlines()\n",
    "         \n",
    "                data[number] =input('new family member:  ') + '\\n' \n",
    "                \n",
    "                with open(r\"D:\\Data Science\\Directory_A\\practice_txt_files1\\content-5.txt\", 'w') as file:\n",
    "                    file.writelines(data)\n",
    "            case \"complete\":\n",
    "                number = int(input(\"family member's number to be edited:  \"))\n",
    "                number = number -1\n",
    "                \n",
    "                with open(r\"D:\\Data Science\\Directory_A\\practice_txt_files1\\content-5.txt\", 'r') as file:\n",
    "                    data = file.readlines()\n",
    "                    \n",
    "                removed_family_member = data[number].strip('\\n')    \n",
    "                    \n",
    "                data.pop(number)\n",
    "                \n",
    "                with open(r\"D:\\Data Science\\Directory_A\\practice_txt_files1\\content-5.txt\", 'w') as file:\n",
    "                    file.writelines(data)\n",
    "                message = f\"family member {removed_family_member} was removed from the data.\"   \n",
    "                print(message)\n",
    "            case \"exit\":\n",
    "                  break\n",
    "            case whaterver:\n",
    "                 print(\"Hey, you entered an unknown command\")\n",
    "print(\"Bye....Bye......Bye\")"
   ]
  },
  {
   "cell_type": "code",
   "execution_count": null,
   "metadata": {},
   "outputs": [],
   "source": [
    "\n",
    "#list5 = []\n",
    "while True:\n",
    "        Action = input('add, show,edit,complete, exit:   ')\n",
    "        match Action:\n",
    "            case \"add\":\n",
    "                family = input(\"Enter the family name:    \")  + \"\\n\"\n",
    "                list5.append(family + '\\n')\n",
    "                file = open(r\"D:\\Data Science\\Directory_A\\practice_txt_files1\\content-5.txt\", 'w')   # here a new file got created.\n",
    "  ###############------------# here'r' is used to diffrenciate with '\\n'              \n",
    "                file.writelines(list5)\n",
    "                file = open(\"D:\\\\Data Science\\\\Directory_A\\\\practice_txt_files1\\\\content-5.txt\", 'r')\n",
    "                file.readlines()\n",
    "                file.close()\n",
    "                \n",
    "            case \"show\": \n",
    "                 print(list5)\n",
    "            case \"edit\":\n",
    "                number = int(input(\"family member's number to be edited:  \"))\n",
    "                number = number-1\n",
    "                with open(r\"D:\\Data Science\\Directory_A\\practice_txt_files1\\content-5.txt\", 'r') as file:\n",
    "                    file.readlines()\n",
    "         \n",
    "                list5[number] =input('new family member:  ') + '\\n' \n",
    "                \n",
    "                with open(r\"D:\\Data Science\\Directory_A\\practice_txt_files1\\content-5.txt\", 'w') as file:\n",
    "                    file.writelines(list5)\n",
    "            case \"complete\":\n",
    "                number = int(input(\"family member's number to be edited:  \"))\n",
    "                number = number -1\n",
    "                \n",
    "                with open(r\"D:\\Data Science\\Directory_A\\practice_txt_files1\\content-5.txt\", 'r') as file:\n",
    "                    file.readlines()\n",
    "                removed_family_member = list5[number].strip('\\n')    \n",
    "                    \n",
    "                list5.pop(number)\n",
    "                \n",
    "                with open(r\"D:\\Data Science\\Directory_A\\practice_txt_files1\\content-5.txt\", 'w') as file:\n",
    "                    file.writelines(list5)\n",
    "                message = f\"family member {removed_family_member} was removed from the list5.\"   \n",
    "                print(message)\n",
    "            case \"exit\":\n",
    "                  break\n",
    "            case whaterver:\n",
    "                 print(\"Hey, you entered an unknown command\")\n",
    "print(\"Bye....Bye......Bye\") "
   ]
  },
  {
   "cell_type": "markdown",
   "metadata": {},
   "source": [
    "# We can Avoid Repetitive Code though \"Custom Function\" : 109- video"
   ]
  },
  {
   "cell_type": "code",
   "execution_count": null,
   "metadata": {},
   "outputs": [],
   "source": [
    "# in cell 124 we can avoid few repetitive code such as :\n",
    "# with open(r\"D:\\Data Science\\Directory_A\\practice_txt_files1\\content-5.txt\", 'r') as file:\n",
    "                    file.readlines()"
   ]
  },
  {
   "cell_type": "code",
   "execution_count": null,
   "metadata": {},
   "outputs": [],
   "source": [
    "# understand the difference between 'return' $ 'print' commands.\n",
    "# In 'return' we have to assign a veriable to call function.\n",
    "# In 'print' we don't have to assign a veriable, we directly call function."
   ]
  },
  {
   "cell_type": "code",
   "execution_count": 161,
   "metadata": {},
   "outputs": [
    {
     "name": "stdout",
     "output_type": "stream",
     "text": [
      "Hello world\n"
     ]
    }
   ],
   "source": [
    "def greet():\n",
    "    message = 'hello world'                    #here 'message' $ 'new_message' are called 'local variable'.\n",
    "    new_message = message.capitalize()         # this local variables will not work outside the funciton.\n",
    "    return new_message                        # here return command is used.\n",
    "var3 = greet()                                # variable is assigned (var3) which is also called 'Global variable'.  \n",
    "print(var3)\n"
   ]
  },
  {
   "cell_type": "code",
   "execution_count": 162,
   "metadata": {},
   "outputs": [
    {
     "name": "stdout",
     "output_type": "stream",
     "text": [
      "Hello world\n"
     ]
    }
   ],
   "source": [
    "def greet():\n",
    "    message = 'hello world'\n",
    "    new_message = message.capitalize()\n",
    "    print(new_message)                        # here print command is used.\n",
    "greet()                                       # here directly we call the function to get the result."
   ]
  },
  {
   "cell_type": "code",
   "execution_count": 163,
   "metadata": {},
   "outputs": [
    {
     "name": "stdout",
     "output_type": "stream",
     "text": [
      "['vinay\\n', 'nithya\\n', 'aryash\\n', 'vinay\\n', 'aryash\\n', 'vinay\\n', 'nithya\\n', 'vinay\\n', 'nithya\\n', 'add table\\n', 'exit\\n', 'vinay\\n', '\\n', 'nithya\\n', '\\n', 'aryash\\n', '\\n', 'vinay\\n', '\\n', '\\n', '\\n']\n"
     ]
    }
   ],
   "source": [
    "def table23():\n",
    "    with open(r\"D:\\Data Science\\Directory_A\\practice_txt_files1\\content-5.txt\", 'r') as file_67:\n",
    "         book = file_67.readlines()\n",
    "    print(book)        \n",
    "table23()"
   ]
  },
  {
   "cell_type": "markdown",
   "metadata": {},
   "source": [
    "# we create below custom function to avoid the Repetitive Code."
   ]
  },
  {
   "cell_type": "code",
   "execution_count": 167,
   "metadata": {},
   "outputs": [
    {
     "name": "stdout",
     "output_type": "stream",
     "text": [
      "add, show,edit,complete, exit, whatever:   add\n",
      "Enter the family name:    rat\n",
      "[]\n",
      "add, show,edit,complete, exit, whatever:   add\n",
      "Enter the family name:    cat\n",
      "['rat\\n']\n",
      "add, show,edit,complete, exit, whatever:   add\n",
      "Enter the family name:    dog\n",
      "['rat\\n', 'cat\\n']\n",
      "add, show,edit,complete, exit, whatever:   add\n",
      "Enter the family name:    fox\n",
      "['rat\\n', 'cat\\n', 'dog\\n']\n",
      "add, show,edit,complete, exit, whatever:   show\n",
      "['rat\\n', 'cat\\n', 'dog\\n', 'fox\\n']\n",
      "add, show,edit,complete, exit, whatever:   complete\n",
      "family member's number to be edited:  4\n",
      "['rat\\n', 'cat\\n', 'dog\\n']\n",
      "family member fox\n",
      " was removed from the list5.\n",
      "add, show,edit,complete, exit, whatever:   show\n",
      "['rat\\n', 'cat\\n', 'dog\\n']\n",
      "add, show,edit,complete, exit, whatever:   exit\n",
      "Bye....Bye......Bye\n"
     ]
    }
   ],
   "source": [
    "\n",
    "def table_r():\n",
    "    with open(r\"D:\\Data Science\\Directory_A\\practice_txt_files1\\content-5.txt\", 'r') as file:\n",
    "         book = file.readlines()\n",
    "    print(book)        \n",
    "#table23()       # here it will print all the data held in 'content-5.txt' and also replacing the above code.\n",
    "\n",
    "# \n",
    "def table_w():\n",
    "    with open(r\"D:\\Data Science\\Directory_A\\practice_txt_files1\\content-5.txt\", 'w') as file:\n",
    "                 book =  file.writelines(list5)\n",
    "    print(book)\n",
    "\n",
    "list5 = []\n",
    "while True:\n",
    "        Action = input('add, show,edit,complete, exit, whatever:   ')\n",
    "        match Action:\n",
    "            case \"add\":\n",
    "                family = input(\"Enter the family name:    \")\n",
    "                list5.append(family + '\\n')\n",
    "                \n",
    "                table_w()\n",
    "                \n",
    "                table_r()        ## here it will print all the data held in 'content-5.txt\n",
    "                \n",
    "            case \"show\": \n",
    "                 print(list5)\n",
    "            case \"edit\":\n",
    "                number = int(input(\"family member's number to be edited:  \"))\n",
    "                number = number-1\n",
    "                \n",
    "                table_r() \n",
    "         \n",
    "                list5[number] =input('new family member:  ') + '\\n' \n",
    "                \n",
    "                table_w()\n",
    "                \n",
    "            case \"complete\":\n",
    "                number = int(input(\"family member's number to be edited:  \"))\n",
    "                number = number -1\n",
    "                \n",
    "                table_r() \n",
    "                \n",
    "                removed_family_member = list5[number]    \n",
    "                    \n",
    "                list5.pop(number)\n",
    "                \n",
    "                table_w()\n",
    "                \n",
    "                message = f\"family member {removed_family_member} was removed from the list5.\"   \n",
    "                print(message)\n",
    "                \n",
    "            case \"exit\":\n",
    "                  break\n",
    "            case whaterver:\n",
    "                 print(\"Hey, you entered an unknown command\")\n",
    "print(\"Bye....Bye......Bye\") "
   ]
  },
  {
   "cell_type": "code",
   "execution_count": null,
   "metadata": {},
   "outputs": [],
   "source": [
    "# Video:118"
   ]
  },
  {
   "cell_type": "code",
   "execution_count": 5,
   "metadata": {},
   "outputs": [
    {
     "name": "stdout",
     "output_type": "stream",
     "text": [
      "add, show,edit,complete, exit, whatever:   show\n",
      "['vinay\\n', 'nithya\\n', 'aryash\\n', 'aryash\\n', '\\n', 'ganesh\\n\\n', 'swarupa\\n', 'pranay\\n', 'anvika\\n']\n",
      "add, show,edit,complete, exit, whatever:   complete\n",
      "family member's number to be edited:  7\n",
      "family member swarupa\n",
      " was removed from the data.\n",
      "add, show,edit,complete, exit, whatever:   show\n",
      "['vinay\\n', 'nithya\\n', 'aryash\\n', 'aryash\\n', '\\n', 'ganesh\\n\\n', 'pranay\\n', 'anvika\\n']\n",
      "add, show,edit,complete, exit, whatever:   complete\n",
      "family member's number to be edited:  5\n",
      "family member \n",
      " was removed from the data.\n",
      "add, show,edit,complete, exit, whatever:   show\n",
      "['vinay\\n', 'nithya\\n', 'aryash\\n', 'aryash\\n', 'ganesh\\n\\n', 'pranay\\n', 'anvika\\n']\n",
      "add, show,edit,complete, exit, whatever:   complete\n",
      "family member's number to be edited:  6\n",
      "family member pranay\n",
      " was removed from the data.\n",
      "add, show,edit,complete, exit, whatever:   exit\n",
      "Bye....Bye......Bye\n"
     ]
    }
   ],
   "source": [
    "\n",
    "\n",
    "def table_r():\n",
    "    with open(r\"D:\\Data Science\\Directory_A\\practice_txt_files1\\content-5.txt\", 'r') as file:\n",
    "         data = file.readlines()\n",
    "            \n",
    "def table_w():\n",
    "    with open(r\"D:\\Data Science\\Directory_A\\practice_txt_files1\\content-5.txt\", 'w') as file:\n",
    "                        file.writelines(data)\n",
    "    \n",
    "while True:\n",
    "        Action = input('add, show,edit,complete, exit, whatever:   ')\n",
    "        match Action:\n",
    "            case \"add\":\n",
    "                family = input(\"Enter the family name:    \")\n",
    "                \n",
    "                table_r()   \n",
    "                \n",
    "                data.append(family + '\\n')\n",
    "                \n",
    "                table_w()\n",
    "                   \n",
    "            case \"show\": \n",
    "                 print(data)\n",
    "            case \"edit\":\n",
    "                number = int(input(\"family member's number to be edited:  \"))\n",
    "                number = number-1\n",
    "                \n",
    "                table_r() \n",
    "         \n",
    "                data[number] =input('new family member:  ') + '\\n' \n",
    "                \n",
    "                table_w()\n",
    "                \n",
    "            case \"complete\":\n",
    "                number = int(input(\"family member's number to be edited:  \"))\n",
    "                number = number -1\n",
    "                \n",
    "                table_r() \n",
    "                \n",
    "                removed_family_member = data[number]    \n",
    "                    \n",
    "                data.pop(number)\n",
    "                \n",
    "                table_w()\n",
    "                \n",
    "                message = f\"family member {removed_family_member} was removed from the data.\"   \n",
    "                print(message)\n",
    "                \n",
    "            case \"exit\":\n",
    "                  break\n",
    "            case whaterver:\n",
    "                 print(\"Hey, you entered an unknown command\")\n",
    "print(\"Bye....Bye......Bye\") "
   ]
  },
  {
   "cell_type": "code",
   "execution_count": null,
   "metadata": {},
   "outputs": [],
   "source": [
    "## Optimising the code through adding arguments:  video:126"
   ]
  },
  {
   "cell_type": "code",
   "execution_count": null,
   "metadata": {},
   "outputs": [],
   "source": [
    "def table_r(filepath):\n",
    "    with open(filepath, 'r') as file:\n",
    "         data = file.readlines()\n",
    "    return data       \n",
    "            \n",
    "def table_w(filepath, data_arg):\n",
    "    with open(filepath, 'w') as file:\n",
    "         file.writelines(data_arg)\n",
    "    \n",
    "while True:\n",
    "        Action = input('add, show,edit,complete, exit, whatever:   ')\n",
    "        match Action:\n",
    "            case \"add\":\n",
    "                family = input(\"Enter the family name:    \")\n",
    "                \n",
    "                data = table_r(\"D:\\Data Science\\Directory_A\\practice_txt_files1\\content-5.txt\")\n",
    "                \n",
    "                data.append(family + '\\n')\n",
    "                \n",
    "                table_w(\"D:\\Data Science\\Directory_A\\practice_txt_files1\\content-5.txt\", data)\n",
    "                   \n",
    "            case \"show\": \n",
    "                 print(data)\n",
    "            case \"edit\":\n",
    "                number = int(input(\"family member's number to be edited:  \"))\n",
    "                number = number-1\n",
    "                \n",
    "                table_r(\"D:\\Data Science\\Directory_A\\practice_txt_files1\\content-5.txt\") \n",
    "         \n",
    "                data[number] =input('new family member:  ') + '\\n' \n",
    "                \n",
    "                table_w(\"D:\\Data Science\\Directory_A\\practice_txt_files1\\content-5.txt\", data)\n",
    "                \n",
    "            case \"complete\":\n",
    "                number = int(input(\"family member's number to be edited:  \"))\n",
    "                number = number -1\n",
    "                \n",
    "                table_r(\"D:\\Data Science\\Directory_A\\practice_txt_files1\\content-5.txt\") \n",
    "                \n",
    "                removed_family_member = data[number]    \n",
    "                    \n",
    "                data.pop(number)\n",
    "                \n",
    "                table_w(\"D:\\Data Science\\Directory_A\\practice_txt_files1\\content-5.txt\", data)\n",
    "                \n",
    "                message = f\"family member {removed_family_member} was removed from the data.\"   \n",
    "                print(message)\n",
    "                \n",
    "            case \"exit\":\n",
    "                  break\n",
    "            case whaterver:\n",
    "                 print(\"Hey, you entered an unknown command\")\n",
    "print(\"Bye....Bye......Bye\") "
   ]
  },
  {
   "cell_type": "markdown",
   "metadata": {},
   "source": [
    "# Create python file where we save all custom function written in the below program.Then we import them below:   (video 135)"
   ]
  },
  {
   "cell_type": "code",
   "execution_count": null,
   "metadata": {},
   "outputs": [],
   "source": [
    "# if __name__ =='__main__':             (video 137) its an interview questions as well"
   ]
  },
  {
   "cell_type": "markdown",
   "metadata": {},
   "source": [
    "#  Doubt here "
   ]
  },
  {
   "cell_type": "code",
   "execution_count": null,
   "metadata": {},
   "outputs": [],
   "source": [
    "\n",
    "# Refer the links: https://www.youtube.com/watch?v=oOn7eOKQXRY,  https://www.youtube.com/watch?v=HHYDLni7UMY,  \n",
    "                 D:\\Data Science\\Python_Classes/Python – Different Ways To Import Module From Different Directory."
   ]
  },
  {
   "cell_type": "code",
   "execution_count": 52,
   "metadata": {},
   "outputs": [
    {
     "name": "stdout",
     "output_type": "stream",
     "text": [
      "D:\\Data Science\\Directory_A\n"
     ]
    }
   ],
   "source": [
    "import os\n",
    "os.chdir('D:\\Data Science\\Directory_A')\n",
    "print(os.getcwd())"
   ]
  },
  {
   "cell_type": "markdown",
   "metadata": {},
   "source": [
    "# %load = it will show all the data of  .py files held in local drive(D:drive) "
   ]
  },
  {
   "cell_type": "code",
   "execution_count": null,
   "metadata": {},
   "outputs": [],
   "source": [
    "\"\"\"There are two types of magic methods in Jupyter notebook: line magics and cell magics. \n",
    "Line magics apply to the current line and start with '%'\n",
    "while cell magics apply to the entire cell and start with '%%'. \"\"\""
   ]
  },
  {
   "cell_type": "code",
   "execution_count": 62,
   "metadata": {},
   "outputs": [
    {
     "name": "stdout",
     "output_type": "stream",
     "text": [
      "['How To Run a Python Script in Jupyter Notebook\\n', '\\n', '    Open Jupyter Notebook in your web browser.\\n', '    Create a new Notebook or open an existing one.\\n', '    In a new cell, type %run followed by the path to your Python script. Example: %run /path/to/your/script.py.\\n', '    Run the cell to execute the script.']\n"
     ]
    }
   ],
   "source": [
    "# %load D:/Data Science/Directory_A/Function-modules/functions2.py\n",
    "\n",
    "def table_r():\n",
    "    with open(r\"D:\\Data Science\\Directory_A\\practice_txt_files1\\content-5.txt\", 'r') as file:\n",
    "         data = file.readlines()\n",
    "    \n",
    "table_r()    "
   ]
  },
  {
   "cell_type": "markdown",
   "metadata": {},
   "source": [
    "## %run = here we need to upload .py files in jupiter notebook first and\n",
    "##  then run the modular functions. (video: 135)\n"
   ]
  },
  {
   "cell_type": "code",
   "execution_count": 41,
   "metadata": {},
   "outputs": [
    {
     "name": "stdout",
     "output_type": "stream",
     "text": [
      "['How To Run a Python Script in Jupyter Notebook\\n', '\\n', '    Open Jupyter Notebook in your web browser.\\n', '    Create a new Notebook or open an existing one.\\n', '    In a new cell, type %run followed by the path to your Python script. Example: %run /path/to/your/script.py.\\n', '    Run the cell to execute the script.']\n"
     ]
    }
   ],
   "source": [
    "%run functions1.py\n",
    "table_r()\n"
   ]
  },
  {
   "cell_type": "code",
   "execution_count": 33,
   "metadata": {},
   "outputs": [
    {
     "name": "stdout",
     "output_type": "stream",
     "text": [
      "add, show,edit,complete, exit, whatever:   add\n",
      "Enter the family name:    anvika\n",
      "add, show,edit,complete, exit, whatever:   show\n",
      "['vinay\\n', 'aryash\\n', 'nithya\\n', 'anvika\\n']\n",
      "add, show,edit,complete, exit, whatever:   edit\n",
      "family member's number to be edited:  4\n",
      "new family member:  riyansh\n",
      "add, show,edit,complete, exit, whatever:   show\n",
      "['vinay\\n', 'aryash\\n', 'nithya\\n', 'riyansh\\n']\n",
      "add, show,edit,complete, exit, whatever:   complete\n",
      "family member's number to be edited:  4\n",
      "family member riyansh\n",
      " was removed from the data.\n",
      "add, show,edit,complete, exit, whatever:   show\n",
      "['vinay\\n', 'aryash\\n', 'nithya\\n']\n",
      "add, show,edit,complete, exit, whatever:   exit\n",
      "Bye....Bye......Bye\n"
     ]
    }
   ],
   "source": [
    "%run functions1.py\n",
    "    \n",
    "while True:\n",
    "        Action = input('add, show,edit,complete, exit, whatever:   ')\n",
    "        match Action:\n",
    "            case \"add\":\n",
    "                family = input(\"Enter the family name:    \")\n",
    "                \n",
    "                table_r()\n",
    "                \n",
    "                \n",
    "                \n",
    "                data.append(family + '\\n')\n",
    "                \n",
    "                table_w(data)               # check video:153\n",
    "                   \n",
    "            case \"show\": \n",
    "                 print(data)\n",
    "                    \n",
    "            case \"edit\":\n",
    "                number = int(input(\"family member's number to be edited:  \"))\n",
    "                number = number-1\n",
    "                \n",
    "                table_r() \n",
    "         \n",
    "                data[number] =input('new family member:  ') + '\\n' \n",
    "                \n",
    "                table_w(data)\n",
    "                \n",
    "            case \"complete\":\n",
    "                number = int(input(\"family member's number to be edited:  \"))\n",
    "                number = number -1\n",
    "                \n",
    "                table_r() \n",
    "                \n",
    "                removed_family_member = data[number]    \n",
    "                    \n",
    "                data.pop(number)\n",
    "                \n",
    "                table_w(data)\n",
    "                \n",
    "                message = f\"family member {removed_family_member} was removed from the data.\"   \n",
    "                print(message)\n",
    "                \n",
    "            case \"exit\":\n",
    "                  break\n",
    "            case whaterver:\n",
    "                 print(\"Hey, you entered an unknown command\")\n",
    "print(\"Bye....Bye......Bye\") "
   ]
  },
  {
   "cell_type": "markdown",
   "metadata": {},
   "source": [
    "#  Using If , elif and else with 'while' loop            #92,93 video"
   ]
  },
  {
   "cell_type": "markdown",
   "metadata": {},
   "source": [
    "# Using 'in', 'not in' , 'or' 'and' "
   ]
  },
  {
   "cell_type": "markdown",
   "metadata": {},
   "source": [
    "# Fixing the bug in the program: 100th video"
   ]
  },
  {
   "cell_type": "markdown",
   "metadata": {},
   "source": [
    "# Error handling with 'try and except' : 101 video"
   ]
  },
  {
   "cell_type": "code",
   "execution_count": 147,
   "metadata": {},
   "outputs": [
    {
     "name": "stdout",
     "output_type": "stream",
     "text": [
      "Enter length:  50\n",
      "Enter Breadth:  50\n",
      "That looks like a Square\n",
      "2500.0\n"
     ]
    }
   ],
   "source": [
    "try:\n",
    "    length = float(input('Enter length:  '))\n",
    "    breadth = float(input('Enter Breadth:  '))\n",
    "    \n",
    "    if length == breadth:\n",
    "        print('That looks like a Square')\n",
    "    \n",
    "    area = length * breadth\n",
    "    print(area)\n",
    "except ValueError: # it occurs if the value given as fifty nor 50.\n",
    "    print('please enter a number')\n",
    "    \n",
    "      "
   ]
  },
  {
   "cell_type": "code",
   "execution_count": null,
   "metadata": {},
   "outputs": [],
   "source": []
  },
  {
   "cell_type": "code",
   "execution_count": 142,
   "metadata": {},
   "outputs": [
    {
     "name": "stdout",
     "output_type": "stream",
     "text": [
      "add,show,edit,complete,exit:   exit\n",
      "Bye....Bye......Bye\n"
     ]
    }
   ],
   "source": [
    "###  using 'if' and 'elif' by avoiding ' input' function here.\n",
    "####  first copy the result and then work on the programme.\n",
    "\n",
    "list7 = []\n",
    "while True:\n",
    "        Action = input('add,show,edit,complete,exit:   ')       #  add sugar, add salt, add tomatos .......\n",
    "        #if 'add' in Action and 'new' in Action:   #  type add new & item'\n",
    "        #if 'add' not in Action:      # here we needs to type anything apart from 'add' and item.\n",
    "        #if \"add\" in Action or 'new' in Action or 'more' in Action: #type 'add' or 'new' or 'more' & item.\n",
    "        if Action.startswith('add'):    # if we type add add  it will take 1st add not the second one.(part of error handling)                       \n",
    "                family = Action[4:]  # add_ = 4 (here system copy the items after four digits.) \n",
    "                                                                                     # replacing the 'input' function here.\n",
    "                list7.append(family + '\\n')\n",
    "                file = open(r\"D:\\Data Science\\Directory_A\\practice_txt_files1\\content-5.txt\", 'w')   # here a new file got created.\n",
    "                                                                     # here'r' is used to diffrenciate with '\\n'              \n",
    "                file.writelines(list7)\n",
    "                file = open(\"D:\\\\Data Science\\\\Directory_A\\\\practice_txt_files1\\\\content-5.txt\", 'r')\n",
    "                file.readlines()\n",
    "                file.close()\n",
    "                \n",
    "        elif Action.startswith('show'):\n",
    "            for index,item in enumerate(list7):      # to get the index and the items as result.\n",
    "                item= item.title()       # if we want to display the sentance as title.\n",
    "                #print(f\"{index}-{item}\") \n",
    "                print(f\"{index + 1}-{item}\") \n",
    "            \n",
    "        elif Action.startswith('edit'):       # type edit & number\n",
    "            try:   \n",
    "                number = int(Action[5:]) # 5 = (edit + space) here it prints the data after five digits.\n",
    "                                                                                       # replacing the 'input' function here.\n",
    "                print(number)\n",
    "                number = number-1\n",
    "                with open(r\"D:\\Data Science\\Directory_A\\practice_txt_files1\\content-5.txt\", 'r') as file:\n",
    "                    file.readlines()\n",
    "         \n",
    "                list7[number] =input('new family member:  ') + '\\n' \n",
    "                \n",
    "                with open(r\"D:\\Data Science\\Directory_A\\practice_txt_files1\\content-5.txt\", 'w') as file:\n",
    "                    file.writelines(list7)\n",
    "            \n",
    "            except ValueError:       # we get this error when we type anything apart from number.\n",
    "                print('Enter only the digits')\n",
    "                \n",
    "                continue     # this command redirect to 1st line -> \"Action = input('add,show,edit,complete,exit:   ')\" .     \n",
    "                    \n",
    "        elif Action.startswith('complete'):         # type complete & number\n",
    "            try:    \n",
    "                number = int(Action[9:])\n",
    "                print(number)\n",
    "                number = number -1\n",
    "                \n",
    "                with open(r\"D:\\Data Science\\Directory_A\\practice_txt_files1\\content-5.txt\", 'r') as file:\n",
    "                    file.readlines()\n",
    "                removed_family_member = list7[number].strip('\\n')    \n",
    "                    \n",
    "                list7.pop(number)\n",
    "                \n",
    "                with open(r\"D:\\Data Science\\Directory_A\\practice_txt_files1\\content-5.txt\", 'w') as file:\n",
    "                    file.writelines(list7)\n",
    "                \n",
    "                message = f\"family member {removed_family_member} was removed from the list5.\"   \n",
    "                print(message)\n",
    "            except IndexError: \n",
    "                print('Check the number again')\n",
    "                \n",
    "                continue\n",
    "                \n",
    "        elif Action.startswith('exit'):\n",
    "                  break\n",
    "        else:\n",
    "                 print(\"Hey, you entered an unknown command\")\n",
    "print(\"Bye....Bye......Bye\")                \n"
   ]
  },
  {
   "cell_type": "code",
   "execution_count": 129,
   "metadata": {},
   "outputs": [
    {
     "name": "stdout",
     "output_type": "stream",
     "text": [
      "add, show,edit,complete, exit:   add ball\n",
      "add, show,edit,complete, exit:   add bat\n",
      "add, show,edit,complete, exit:   add chair\n",
      "add, show,edit,complete, exit:   add table\n",
      "add, show,edit,complete, exit:   add rice\n",
      "add, show,edit,complete, exit:   add wheat\n",
      "add, show,edit,complete, exit:   show\n",
      "1-Ball\n",
      "2-Bat\n",
      "3-Chair\n",
      "4-Table\n",
      "5-Rice\n",
      "6-Wheat\n",
      "add, show,edit,complete, exit:   edit 3\n",
      "3\n",
      "new family member:  jowar\n",
      "add, show,edit,complete, exit:   show\n",
      "1-Ball\n",
      "2-Bat\n",
      "3-Jowar\n",
      "\n",
      "4-Table\n",
      "5-Rice\n",
      "6-Wheat\n",
      "add, show,edit,complete, exit:   complete 3\n",
      "3\n",
      "family member jowar was removed from the list5.\n",
      "add, show,edit,complete, exit:   show\n",
      "1-Ball\n",
      "2-Bat\n",
      "3-Table\n",
      "4-Rice\n",
      "5-Wheat\n",
      "add, show,edit,complete, exit:   exit\n",
      "Bye....Bye......Bye\n"
     ]
    }
   ],
   "source": [
    "###  using 'if' and 'elif' by avoiding ' input' function here.\n",
    "####  first copy the result and then work on the programme.\n",
    "\n",
    "list7 = []\n",
    "while True:\n",
    "        Action = input('add, show,edit,complete, exit:   ')       #  add sugar, add salt, add tomatos .......\n",
    "        #if 'add' in Action and 'new' in Action:   #  type add new & item'\n",
    "        #if 'add' not in Action:      # here we needs to type anything apart from 'add' and item.\n",
    "        if \"add\" in Action or 'new' in Action or 'more' in Action:             #  type 'add' or 'new' or 'more' & item.\n",
    "                family = Action[4:]  # add_ = 4 (here system copy the items after four digits.) \n",
    "                                                                                     # replacing the 'input' function here.\n",
    "                list7.append(family + '\\n')\n",
    "                file = open(r\"D:\\Data Science\\Directory_A\\practice_txt_files1\\content-5.txt\", 'w')   # here a new file got created.\n",
    " # here'r' is used to diffrenciate with '\\n'              \n",
    "                file.writelines(list7)\n",
    "                file = open(\"D:\\\\Data Science\\\\Directory_A\\\\practice_txt_files1\\\\content-5.txt\", 'r')\n",
    "                file.readlines()\n",
    "                file.close()\n",
    "                \n",
    "        elif \"show\" in Action:\n",
    "            for index,item in enumerate(list7):      # to get the index and the items as result.\n",
    "                item= item.title()       # if we want to display the sentance as title.\n",
    "                #print(f\"{index}-{item}\") \n",
    "                print(f\"{index + 1}-{item}\") \n",
    "            \n",
    "        elif \"edit\" in Action:           # type edit & number\n",
    "                number = int(Action[5:]) # 5 = (edit + space) here it prints the data after five digits.\n",
    "                                                                                       # replacing the 'input' function here.\n",
    "                print(number)\n",
    "                number = number-1\n",
    "                with open(r\"D:\\Data Science\\Directory_A\\practice_txt_files1\\content-5.txt\", 'r') as file:\n",
    "                    file.readlines()\n",
    "         \n",
    "                list7[number] =input('new family member:  ') + '\\n' \n",
    "                \n",
    "                with open(r\"D:\\Data Science\\Directory_A\\practice_txt_files1\\content-5.txt\", 'w') as file:\n",
    "                    file.writelines(list7)\n",
    "        elif \"complete\" in Action:            # type complete & number\n",
    "                number = int(Action[9:])\n",
    "                print(number)\n",
    "                number = number -1\n",
    "                \n",
    "                with open(r\"D:\\Data Science\\Directory_A\\practice_txt_files1\\content-5.txt\", 'r') as file:\n",
    "                    file.readlines()\n",
    "                removed_family_member = list7[number].strip('\\n')    \n",
    "                    \n",
    "                list7.pop(number)\n",
    "                \n",
    "                with open(r\"D:\\Data Science\\Directory_A\\practice_txt_files1\\content-5.txt\", 'w') as file:\n",
    "                    file.writelines(list7)\n",
    "                \n",
    "                message = f\"family member {removed_family_member} was removed from the list5.\"   \n",
    "                print(message)\n",
    "        elif \"exit\" in Action:\n",
    "                  break\n",
    "        else:\n",
    "                 print(\"Hey, you entered an unknown command\")\n",
    "print(\"Bye....Bye......Bye\")                \n"
   ]
  },
  {
   "cell_type": "code",
   "execution_count": null,
   "metadata": {},
   "outputs": [],
   "source": []
  },
  {
   "cell_type": "code",
   "execution_count": 124,
   "metadata": {},
   "outputs": [
    {
     "name": "stdout",
     "output_type": "stream",
     "text": [
      "add, show,edit,complete, exit:   add chair\n",
      "Enter the family name:    add table\n",
      "add, show,edit,complete, exit:   add bench\n",
      "Enter the family name:    exit\n",
      "add, show,edit,complete, exit:   exit\n",
      "Bye....Bye......Bye\n"
     ]
    }
   ],
   "source": [
    "###  using 'if' and 'elif' with ' input' function here.\n",
    "\n",
    "#list5 = []\n",
    "while True:\n",
    "        Action = input('add, show,edit,complete, exit:   ')\n",
    "        \n",
    "        if \"add\" in Action:\n",
    "                family = input(\"Enter the family name:    \")  + \"\\n\"\n",
    "                list5.append(family  + '\\n')\n",
    "                file = open(r\"D:\\Data Science\\Directory_A\\practice_txt_files1\\content-5.txt\", 'w')   # here a new file got created.\n",
    " # here'r' is used to diffrenciate with '\\n'              \n",
    "                file.writelines(list5)\n",
    "                file = open(\"D:\\\\Data Science\\\\Directory_A\\\\practice_txt_files1\\\\content-5.txt\", 'r')\n",
    "                file.readlines()\n",
    "                file.close()\n",
    "                \n",
    "        elif  \"show\" in  Action: \n",
    "                 for index,item in enumerate(list5):      # to get the index and the items as result.\n",
    "                    item= item.title()       # if we want to display the sentance as title.\n",
    "                    #print(f\"{index}-{item}\") \n",
    "                    print(f\"{index + 1}-{item}\") \n",
    "            \n",
    "        elif  \"edit\"in Action:\n",
    "                number = int(input(\"family member's number to be edited:  \"))\n",
    "                number = number-1\n",
    "                with open(r\"D:\\Data Science\\Directory_A\\practice_txt_files1\\content-5.txt\", 'r') as file:\n",
    "                    file.readlines()\n",
    "         \n",
    "                list5[number] =input('new family member:  ') + '\\n' \n",
    "                \n",
    "                with open(r\"D:\\Data Science\\Directory_A\\practice_txt_files1\\content-5.txt\", 'w') as file:\n",
    "                    file.writelines(list5)\n",
    "        elif \"complete\" in Action:\n",
    "                number = int(input(\"family member's number to be edited:  \"))\n",
    "                number = number -1\n",
    "                \n",
    "                with open(r\"D:\\Data Science\\Directory_A\\practice_txt_files1\\content-5.txt\", 'r') as file:\n",
    "                    file.readlines()\n",
    "                removed_family_member = list5[number].strip('\\n')    \n",
    "                    \n",
    "                list5.pop(number)\n",
    "                \n",
    "                with open(r\"D:\\Data Science\\Directory_A\\practice_txt_files1\\content-5.txt\", 'w') as file:\n",
    "                    file.writelines(list5)\n",
    "                message = f\"family member {removed_family_member} was removed from the list5.\"   \n",
    "                print(message)\n",
    "        elif \"exit\" in Action:\n",
    "                  break\n",
    "        else:\n",
    "                 print(\"Hey, you entered an unknown command\")\n",
    "print(\"Bye....Bye......Bye\") "
   ]
  },
  {
   "cell_type": "code",
   "execution_count": 166,
   "metadata": {},
   "outputs": [],
   "source": [
    "file3 = open('D:\\\\Data Science\\\\Directory_A\\\\practice_txt_files1\\\\content-6.txt', 'w')   # here a new file got created.\n",
    "file3.writelines(['Door''\\n','Window''\\n','Locks''\\n','Gate'])       # data1\n",
    "\n",
    "file3 = open('D:\\\\Data Science\\\\Directory_A\\\\practice_txt_files1\\\\content-6.txt', 'r')\n",
    "file3.readlines()\n",
    "file3.close()\n"
   ]
  },
  {
   "cell_type": "code",
   "execution_count": 169,
   "metadata": {},
   "outputs": [],
   "source": [
    "file3 = open('D:\\\\Data Science\\\\Directory_A\\\\practice_txt_files1\\\\content-6.txt', 'w')\n",
    "file3.writelines('Hi kid how are you doing?')   # here its overwritting the data1 with the current data.\n",
    "file3 = open('D:\\\\Data Science\\\\Directory_A\\\\practice_txt_files1\\\\content-6.txt', 'r')\n",
    "file3.readlines()\n",
    "file.close()"
   ]
  },
  {
   "cell_type": "code",
   "execution_count": 170,
   "metadata": {},
   "outputs": [],
   "source": [
    "with open('D:\\\\Data Science\\\\Directory_A\\\\practice_txt_files1\\\\content-6.txt', 'r') as file3:\n",
    "    file3.read()\n"
   ]
  },
  {
   "cell_type": "code",
   "execution_count": 171,
   "metadata": {},
   "outputs": [
    {
     "name": "stdout",
     "output_type": "stream",
     "text": [
      "Hi kid how are you doing?\n",
      "Hi kid how are you doing?\n",
      "Hi kid how are you doing?\n"
     ]
    }
   ],
   "source": [
    "with open('D:\\\\Data Science\\\\Directory_A\\\\practice_txt_files1\\\\content-6.txt', 'r') as file3:\n",
    "    var2 = file3.read()      #here we can call the 'var2' many times.\n",
    "print(var2)\n",
    "print(var2)\n",
    "print(var2)\n",
    "\n",
    "    "
   ]
  },
  {
   "cell_type": "code",
   "execution_count": 81,
   "metadata": {},
   "outputs": [
    {
     "name": "stdout",
     "output_type": "stream",
     "text": [
      "\n",
      "\n",
      "\n"
     ]
    }
   ],
   "source": [
    "with open('D:\\\\Data Science\\\\Directory_A\\\\practice_txt_files1\\\\content-6.txt', 'r') as file3:\n",
    "    file3.read()        # 1st time read is done.\n",
    "    var3 = file3.read()   # here 'var3' shows empty lines, because here system will read after the end of  1st read data(doing?).\n",
    "print(var3)\n",
    "print(var3)    \n",
    "print(var3)    "
   ]
  },
  {
   "cell_type": "code",
   "execution_count": 197,
   "metadata": {},
   "outputs": [
    {
     "name": "stdout",
     "output_type": "stream",
     "text": [
      "D:\\Data Science\\Directory_A\n"
     ]
    }
   ],
   "source": [
    "import os\n",
    "os.chdir('D:\\Data Science\\Directory_A')\n",
    "print(os.getcwd())"
   ]
  },
  {
   "cell_type": "code",
   "execution_count": 198,
   "metadata": {},
   "outputs": [],
   "source": [
    "file5 = open(f\"D:\\\\Data Science\\\\Directory_A\\\\practice_txt_files1\\\\content-1.txt\",'w')\n",
    "file5.writelines('Hi woodpecker how r u doing?\\n')\n",
    "file5 = open(f\"D:\\\\Data Science\\\\Directory_A\\\\practice_txt_files1\\\\content-1.txt\",'r')\n",
    "file5.read()\n",
    "file5 = open(f\"D:\\\\Data Science\\\\Directory_A\\\\practice_txt_files1\\\\content-1.txt\",'a')\n",
    "file5.writelines('Hi viper you seems to be so dangerous.')\n",
    "file5 = open(f\"D:\\\\Data Science\\\\Directory_A\\\\practice_txt_files1\\\\content-1.txt\",'r')\n",
    "file5.readlines()\n",
    "file5.close()"
   ]
  },
  {
   "cell_type": "code",
   "execution_count": 200,
   "metadata": {},
   "outputs": [
    {
     "name": "stdout",
     "output_type": "stream",
     "text": [
      "add new member:  vinay_aryash\n"
     ]
    }
   ],
   "source": [
    "# adding new data to the existing data in file.\n",
    "member = input('add new member:  ')\n",
    "file = open('D:\\\\Data Science\\\\Directory_A\\\\practice_txt_files1\\\\content-1.txt','r')\n",
    "existing_members = file.readlines()\n",
    "existing_members.append(member + '\\n')\n",
    "file = open(\"D:\\\\Data Science\\\\Directory_A\\\\practice_txt_files1\\\\content-1.txt\", 'w')\n",
    "file.writelines(existing_members)\n",
    "file.close()"
   ]
  },
  {
   "cell_type": "code",
   "execution_count": 88,
   "metadata": {},
   "outputs": [
    {
     "name": "stdout",
     "output_type": "stream",
     "text": [
      "name the items:  chillies\n",
      "name the items:  tomatos\n",
      "name the items:  potatos\n",
      "name the items:  cabage\n",
      "name the items:  end\n"
     ]
    }
   ],
   "source": [
    "item_grouped = []\n",
    "items= input('name the items:  ')\n",
    "while items != 'end':\n",
    "    items= input('name the items:  ')\n",
    "    file = open('D:\\\\Data Science\\\\Directory_A\\\\practice_txt_files1\\\\content-1.txt','r')\n",
    "    item_grouped = file.readlines()\n",
    "    item_grouped.append(items + '\\n')\n",
    "    file = open(\"D:\\\\Data Science\\\\Directory_A\\\\practice_txt_files1\\\\content-1.txt\", 'w')\n",
    "    file.writelines(item_grouped)\n",
    "file.close()\n"
   ]
  },
  {
   "cell_type": "markdown",
   "metadata": {},
   "source": [
    "# writing or (copying) a string(data) in all the files at the same time. "
   ]
  },
  {
   "cell_type": "code",
   "execution_count": 216,
   "metadata": {},
   "outputs": [],
   "source": [
    "# doubt here as it is not working for me .\n",
    "\n",
    "filenames = ['content-1.txt','content-2.txt','content-3.txt'] \n",
    "for A in filenames:\n",
    "    file = open(A, 'w')\n",
    "    file.write(\"abraka_dabra\")\n",
    "    file.close()\n"
   ]
  },
  {
   "cell_type": "code",
   "execution_count": 89,
   "metadata": {},
   "outputs": [],
   "source": [
    "filenames = ['content-1.txt','content-2.txt','content-3.txt'] \n",
    "file = open(f\"D:\\\\Data Science\\\\Directory_A\\\\practice_txt_files1\\\\{filenames}\",'w')\n",
    "file.write(\"shazam\")\n",
    "file.close()\n"
   ]
  },
  {
   "cell_type": "code",
   "execution_count": 217,
   "metadata": {},
   "outputs": [
    {
     "name": "stdout",
     "output_type": "stream",
     "text": [
      "abraka_dabra\n",
      "abraka_dabra\n",
      "abraka_dabra\n"
     ]
    }
   ],
   "source": [
    "# to print/read the data of all the files.\n",
    "filenames = ['content-1.txt','content-2.txt','content-3.txt'] \n",
    "for A in filenames:\n",
    "    file = open(A, 'r')\n",
    "    content = file.read()\n",
    "    print(content)\n",
    "    file.close()"
   ]
  },
  {
   "cell_type": "markdown",
   "metadata": {},
   "source": [
    "#       zip          #########"
   ]
  },
  {
   "cell_type": "code",
   "execution_count": 181,
   "metadata": {},
   "outputs": [
    {
     "data": {
      "text/plain": [
       "[('A', 10), ('B', 20), ('C', 30), ('D', 40)]"
      ]
     },
     "execution_count": 181,
     "metadata": {},
     "output_type": "execute_result"
    }
   ],
   "source": [
    "x = ['A','B','C','D']\n",
    "y = [10,20,30,40,]\n",
    "z = zip(x,y)\n",
    "list(z)"
   ]
  },
  {
   "cell_type": "code",
   "execution_count": 182,
   "metadata": {},
   "outputs": [],
   "source": [
    "#  Need to recheck 'the given contents were not copied in text files.'"
   ]
  },
  {
   "cell_type": "code",
   "execution_count": 91,
   "metadata": {},
   "outputs": [],
   "source": [
    "contents=['All carrots are to be sliced longitudinally.',\n",
    "          'The carrots were reportedly sliced.',\n",
    "          'The carrots were added in making noodles.']"
   ]
  },
  {
   "cell_type": "code",
   "execution_count": 92,
   "metadata": {},
   "outputs": [],
   "source": [
    "filenames = ['content-1.txt','content-2.txt','content-3.txt']    #   blank files already created in folder(practice_txt -files1)."
   ]
  },
  {
   "cell_type": "code",
   "execution_count": 98,
   "metadata": {},
   "outputs": [
    {
     "name": "stdout",
     "output_type": "stream",
     "text": [
      "All carrots are to be sliced longitudinally.\n",
      "The carrots were reportedly sliced.\n",
      "The carrots were added in making noodles.\n"
     ]
    }
   ],
   "source": [
    "for A, B in zip(contents,filenames):\n",
    "    file = open(f\"D:\\\\Data Science\\\\Directory_A\\\\practice_txt_files1\\\\{filenames}\",'w') # note double dot\"..\"  function here.  \n",
    "    file.write('A') # This code is not working for me need to double check.\n",
    "    file = open(f\"D:\\\\Data Science\\\\Directory_A\\\\practice_txt_files1\\\\{filenames}\",'r')\n",
    "    file.readlines()\n",
    "    print(A)\n",
    "    file.close()\n",
    "  "
   ]
  },
  {
   "cell_type": "code",
   "execution_count": 95,
   "metadata": {},
   "outputs": [
    {
     "name": "stdout",
     "output_type": "stream",
     "text": [
      "['Hi Aryash , what did you like about the school?\\n', 'Hi Aryash , what did you like about the playground?Hi Nithya, did you took aryash to the school?table\\n', 'pen\\n', 'chair\\n', 'writing pad\\n', 'books\\n', 'table light\\n']\n"
     ]
    }
   ],
   "source": [
    "file = open(f\"D:\\\\Data Science\\\\Directory_A\\\\practice_txt_files1\\\\content-2.txt\",'r')\n",
    "print(file.readlines())\n",
    "file.close()"
   ]
  },
  {
   "cell_type": "markdown",
   "metadata": {},
   "source": [
    "## Creating Personal Diary (85)"
   ]
  },
  {
   "cell_type": "code",
   "execution_count": 234,
   "metadata": {},
   "outputs": [
    {
     "name": "stdout",
     "output_type": "stream",
     "text": [
      "Door\n",
      "\n",
      "Window\n",
      "\n",
      "Locks\n",
      "\n",
      "Gate\n",
      "walls\n",
      "bed\n",
      "kitchen\n"
     ]
    }
   ],
   "source": [
    "list6 = ['Door''\\n','Window''\\n','Locks''\\n','Gate','walls','bed','kitchen']\n",
    "for i in list6:\n",
    "    print(i)\n"
   ]
  },
  {
   "cell_type": "code",
   "execution_count": 235,
   "metadata": {},
   "outputs": [
    {
     "name": "stdout",
     "output_type": "stream",
     "text": [
      "0 Door\n",
      "1 Window\n",
      "\n",
      "2 \n",
      "\n",
      "3 Locks\n",
      "4 Gate\n",
      "5 walls\n",
      "\n",
      "\n",
      "6 bed\n",
      "\n",
      "7 kitchen\n"
     ]
    }
   ],
   "source": [
    "# check the difference between('\\n') ('\\n','\\n') and (+ 2*'\\n')\n",
    "list6 = ['Door','Window''\\n','\\n','Locks','Gate','walls'+ 2*'\\n','bed''\\n','kitchen']  \n",
    "for i,j in enumerate(list6):\n",
    "    print(i,j)"
   ]
  },
  {
   "cell_type": "code",
   "execution_count": 237,
   "metadata": {},
   "outputs": [
    {
     "name": "stdout",
     "output_type": "stream",
     "text": [
      "Enter todays date:   29-Jul-24\n",
      "How do you rate your mood today from 1 to 10 5\n",
      "Let your thoughts flow: \n",
      "I was not doing that good!\n"
     ]
    }
   ],
   "source": [
    "date = input('Enter todays date:   ')  # the date we enter here will be the name of the file created below.\n",
    "mood = input('How do you rate your mood today from 1 to 10 ')\n",
    "thoughts = input('Let your thoughts flow: \\n') # input data in next line.\n",
    "\n",
    "with open(f\"D:\\\\Data Science\\\\Directory_A\\\\practice_txt_files1\\\\{date}.txt\" ,\"w\") as file:\n",
    "                                 # here multiple files gets created automatically with the date mentioned in 1st line.\n",
    "    file.write(mood + 2*'\\n')\n",
    "    file.write(thoughts)\n",
    "\n"
   ]
  },
  {
   "cell_type": "markdown",
   "metadata": {},
   "source": [
    "# Slicing of data in the text file directly. Bonus Example in (111 video)"
   ]
  },
  {
   "cell_type": "code",
   "execution_count": 3,
   "metadata": {},
   "outputs": [
    {
     "name": "stdout",
     "output_type": "stream",
     "text": [
      "['pad\\n', 'pencil\\n', 'book\\n']\n"
     ]
    }
   ],
   "source": [
    "def slicing_A():\n",
    "    with open(r\"D:\\Data Science\\Directory_A\\practice_txt_files1\\content-1.txt\", 'r') as file:\n",
    "            data = file.readlines()\n",
    "    values = data[1:4]    #   here we can do slicing of data in the text file directly. \n",
    "    print(values) \n",
    "slicing_A()    "
   ]
  },
  {
   "cell_type": "code",
   "execution_count": 25,
   "metadata": {},
   "outputs": [
    {
     "name": "stdout",
     "output_type": "stream",
     "text": [
      "['10\\n', '20\\n', '30\\n', '40\\n', '50\\n', '60\\n', '70\\n', '80\\n', '90\\n']\n"
     ]
    }
   ],
   "source": [
    "def baladur():\n",
    "    with open(r\"D:\\Data Science\\Directory_A\\practice_txt_files1\\content-7.txt\", 'r') as file:\n",
    "            data = file.readlines()\n",
    "            print(data)\n",
    "baladur()           "
   ]
  },
  {
   "cell_type": "code",
   "execution_count": 4,
   "metadata": {},
   "outputs": [
    {
     "name": "stdout",
     "output_type": "stream",
     "text": [
      "50.0\n"
     ]
    }
   ],
   "source": [
    "def baladur():\n",
    "    with open(r\"D:\\Data Science\\Directory_A\\practice_txt_files1\\content-7.txt\", 'r') as file:\n",
    "            \"\"\"here we are working on content-7.txt file \"\"\"   #(\"\"\"  \"\"\") it is calle doc-strings, used to describe functions.\n",
    "            data = file.readlines()\n",
    "            values = data        \n",
    "            values = [float(i) for i in values]        \n",
    "            average = sum(values) / len(values) # here we can calculate the data held in text file directly.\n",
    "            print(average)\n",
    "baladur()    "
   ]
  },
  {
   "cell_type": "code",
   "execution_count": null,
   "metadata": {},
   "outputs": [],
   "source": []
  },
  {
   "cell_type": "code",
   "execution_count": null,
   "metadata": {},
   "outputs": [],
   "source": [
    "# Decoupling(simplifying ) the below program by avoiding single custom function program to multiple custom function program.\n",
    "#  (Bonus Example  120-129 video)"
   ]
  },
  {
   "cell_type": "code",
   "execution_count": 10,
   "metadata": {},
   "outputs": [
    {
     "name": "stdout",
     "output_type": "stream",
     "text": [
      "Enter feet and inches:   78 96\n",
      "['78', '96']\n",
      "78.0\n",
      "96.0\n"
     ]
    }
   ],
   "source": [
    "feet_inches = input(\"Enter feet and inches:   \")\n",
    "parts = feet_inches.split(\" \")\n",
    "print(parts)\n",
    "\n",
    "feet = float(parts[0])\n",
    "print(feet)\n",
    "\n",
    "inches = float(parts[1])\n",
    "print(inches)\n"
   ]
  },
  {
   "cell_type": "code",
   "execution_count": 28,
   "metadata": {},
   "outputs": [
    {
     "name": "stdout",
     "output_type": "stream",
     "text": [
      "Enter feet and inches:   5 12\n",
      "5.0 feet and 12.0 inches is equal to 1.8288 meters.\n",
      "kid can use the slide.\n"
     ]
    }
   ],
   "source": [
    "feet_inches = input(\"Enter feet and inches:   \")\n",
    "def convert(feet_inches):\n",
    "    parts = feet_inches.split(\" \")\n",
    "    feet = float(parts[0])\n",
    "    inches = float(parts[1])\n",
    "    meters = feet * 0.3048 + inches * 0.0254\n",
    "    print(f\"{feet} feet and {inches} inches is equal to {meters} meters.\")\n",
    "    return meters\n",
    "\n",
    "\n",
    "result = convert(feet_inches)\n",
    "if result < 1:\n",
    "    print(\"kid is too small.\")\n",
    "else:\n",
    "    print('kid can use the slide.')\n",
    "    \n"
   ]
  },
  {
   "cell_type": "code",
   "execution_count": 7,
   "metadata": {},
   "outputs": [
    {
     "name": "stdout",
     "output_type": "stream",
     "text": [
      "Enter feet and inches:   3 10\n",
      "3.0 feet and 10.0 inches is equal to 1.1684\n",
      "kid can use the slide.\n"
     ]
    }
   ],
   "source": [
    "feet_inches = input(\"Enter feet and inches:   \")\n",
    "\n",
    "def parse(feet_inches):\n",
    "    parts = feet_inches.split(\" \")\n",
    "    feet = float(parts[0])\n",
    "    inches = float(parts[1])\n",
    "    return {\"feet\": feet, \"inches\":inches}\n",
    "\n",
    "def convert(feet ,inches):\n",
    "    meters = feet * 0.3048 + inches * 0.0254\n",
    "    return meters \n",
    "        \n",
    "parsed = parse(feet_inches)\n",
    "\n",
    "result = convert(parsed['feet'], parsed['inches'])\n",
    " \n",
    "print(f\"{parsed['feet']} feet and {parsed['inches']} inches is equal to {result}\")\n",
    "   \n",
    "if result < 1:\n",
    "    print(\"kid is too small.\")\n",
    "else:\n",
    "    print('kid can use the slide.')\n",
    "    \n"
   ]
  },
  {
   "cell_type": "markdown",
   "metadata": {},
   "source": [
    "# View Time in python:"
   ]
  },
  {
   "cell_type": "code",
   "execution_count": null,
   "metadata": {},
   "outputs": [],
   "source": [
    " # python date time format codes: https://docs.python.org/3/library/datetime.html#strftime-and-strptime-behavior"
   ]
  },
  {
   "cell_type": "code",
   "execution_count": 1,
   "metadata": {},
   "outputs": [],
   "source": [
    "import time              #  strftime  = string from time"
   ]
  },
  {
   "cell_type": "code",
   "execution_count": 5,
   "metadata": {},
   "outputs": [
    {
     "data": {
      "text/plain": [
       "'08'"
      ]
     },
     "execution_count": 5,
     "metadata": {},
     "output_type": "execute_result"
    }
   ],
   "source": [
    "time.strftime('%Y')"
   ]
  },
  {
   "cell_type": "code",
   "execution_count": 6,
   "metadata": {},
   "outputs": [
    {
     "data": {
      "text/plain": [
       "'24'"
      ]
     },
     "execution_count": 6,
     "metadata": {},
     "output_type": "execute_result"
    }
   ],
   "source": [
    "time.strftime('%y')"
   ]
  },
  {
   "cell_type": "code",
   "execution_count": 8,
   "metadata": {},
   "outputs": [
    {
     "data": {
      "text/plain": [
       "'08'"
      ]
     },
     "execution_count": 8,
     "metadata": {},
     "output_type": "execute_result"
    }
   ],
   "source": [
    "time.strftime('%m')"
   ]
  },
  {
   "cell_type": "code",
   "execution_count": 9,
   "metadata": {},
   "outputs": [
    {
     "data": {
      "text/plain": [
       "'27'"
      ]
     },
     "execution_count": 9,
     "metadata": {},
     "output_type": "execute_result"
    }
   ],
   "source": [
    "time.strftime('%d')"
   ]
  },
  {
   "cell_type": "code",
   "execution_count": 10,
   "metadata": {},
   "outputs": [
    {
     "data": {
      "text/plain": [
       "'27- 08 -2024'"
      ]
     },
     "execution_count": 10,
     "metadata": {},
     "output_type": "execute_result"
    }
   ],
   "source": [
    "time.strftime('%d- %m -%Y')"
   ]
  },
  {
   "cell_type": "code",
   "execution_count": 11,
   "metadata": {},
   "outputs": [
    {
     "data": {
      "text/plain": [
       "'Aug'"
      ]
     },
     "execution_count": 11,
     "metadata": {},
     "output_type": "execute_result"
    }
   ],
   "source": [
    "time.strftime('%b')"
   ]
  },
  {
   "cell_type": "code",
   "execution_count": 13,
   "metadata": {},
   "outputs": [
    {
     "data": {
      "text/plain": [
       "'27- 08 -2024, 06:59:29'"
      ]
     },
     "execution_count": 13,
     "metadata": {},
     "output_type": "execute_result"
    }
   ],
   "source": [
    "time.strftime('%d- %m -%Y, %H:%M:%S')       # %m & %M =  month and Minutes"
   ]
  },
  {
   "cell_type": "code",
   "execution_count": 15,
   "metadata": {},
   "outputs": [
    {
     "data": {
      "text/plain": [
       "'27 - Aug - 2024,  07:02:39'"
      ]
     },
     "execution_count": 15,
     "metadata": {},
     "output_type": "execute_result"
    }
   ],
   "source": [
    "time.strftime('%d - %b - %Y,  %H:%M:%S')"
   ]
  },
  {
   "cell_type": "markdown",
   "metadata": {},
   "source": [
    "###  Python Module Index  : https://docs.python.org/3/py-modindex.html  (video-144, timestamp: 9.27.00)"
   ]
  },
  {
   "cell_type": "code",
   "execution_count": null,
   "metadata": {},
   "outputs": [],
   "source": [
    "# most used modules are:- csv, glob, zipfile, webbrowser , shutil"
   ]
  },
  {
   "cell_type": "code",
   "execution_count": 17,
   "metadata": {},
   "outputs": [],
   "source": [
    "import glob\n",
    "apple = glob.glob(\"D:\\Data Science\\Directory_A\\practice_txt_files1/*.txt\") # here (*.txt) = all text file only."
   ]
  },
  {
   "cell_type": "code",
   "execution_count": 19,
   "metadata": {},
   "outputs": [
    {
     "name": "stdout",
     "output_type": "stream",
     "text": [
      "5\n",
      "\n",
      "I WAS NOT DOING THAT GOOD!\n",
      "8\n",
      "\n",
      "TODAY I HAVE NOT DONE THAT GREAT!\n",
      "CHAIR\n",
      "PAD\n",
      "PENCIL\n",
      "BOOK\n",
      "RUBBER\n",
      "PEN\n",
      "SCALE\n",
      "END\n",
      "TOMATOS\n",
      "POTATOS\n",
      "CABAGE\n",
      "END\n",
      "\n",
      "HI ARYASH , WHAT DID YOU LIKE ABOUT THE SCHOOL?\n",
      "HI ARYASH , WHAT DID YOU LIKE ABOUT THE PLAYGROUND?HI NITHYA, DID YOU TOOK ARYASH TO THE SCHOOL?TABLE\n",
      "PEN\n",
      "CHAIR\n",
      "WRITING PAD\n",
      "BOOKS\n",
      "TABLE LIGHT\n",
      "\n",
      "ABRAKA_DABRA\n",
      "\n",
      "RAT\n",
      "CAT\n",
      "DOG\n",
      "FOX\n",
      "\n",
      "HI KID HOW ARE YOU DOING?\n",
      "10\n",
      "20\n",
      "30\n",
      "40\n",
      "50\n",
      "60\n",
      "70\n",
      "80\n",
      "90\n",
      "\n",
      "HI ARYASH , WHAT DID YOU LIKE ABOUT THE SCHOOL?\n",
      "HI ARYASH , WHAT DID YOU LIKE ABOUT THE PLAYGROUND?\n",
      "\n",
      "VINAY\n",
      "NITHYA\n",
      "ARYASH\n",
      "\n"
     ]
    }
   ],
   "source": [
    "for filepath in apple:\n",
    "    with open(filepath,\"r\") as file:\n",
    "     print(file.read().upper())"
   ]
  },
  {
   "cell_type": "code",
   "execution_count": null,
   "metadata": {},
   "outputs": [],
   "source": [
    "# need to prcatice .CSV files."
   ]
  },
  {
   "cell_type": "markdown",
   "metadata": {},
   "source": [
    " # shutil = used in making zip files.     video: 145, timestamp: 17.33.00"
   ]
  },
  {
   "cell_type": "code",
   "execution_count": null,
   "metadata": {},
   "outputs": [],
   "source": [
    "import shutil\n",
    "shutil.make_archive('mango','zip', 'filepath')  # filepath = file address"
   ]
  },
  {
   "cell_type": "code",
   "execution_count": 21,
   "metadata": {},
   "outputs": [
    {
     "name": "stdout",
     "output_type": "stream",
     "text": [
      "Enter a search term:   blockchain\n"
     ]
    },
    {
     "data": {
      "text/plain": [
       "True"
      ]
     },
     "execution_count": 21,
     "metadata": {},
     "output_type": "execute_result"
    }
   ],
   "source": [
    "import webbrowser\n",
    "user_term = input(\"Enter a search term:   \")\n",
    "webbrowser.open(\"https://www.google.com/search?q=\"  +  user_term)    # note google address as mentioned here  to work."
   ]
  },
  {
   "cell_type": "code",
   "execution_count": 24,
   "metadata": {},
   "outputs": [
    {
     "name": "stdout",
     "output_type": "stream",
     "text": [
      "Enter a search term:   list\n"
     ]
    },
    {
     "data": {
      "text/plain": [
       "True"
      ]
     },
     "execution_count": 24,
     "metadata": {},
     "output_type": "execute_result"
    }
   ],
   "source": [
    "import webbrowser\n",
    "user_term = input(\"Enter a search term:   \")\n",
    "webbrowser.open(\"https://www.python.org/search/?q=\"  +  user_term) "
   ]
  },
  {
   "cell_type": "code",
   "execution_count": 1,
   "metadata": {},
   "outputs": [],
   "source": [
    "# using Json file : video-146"
   ]
  },
  {
   "cell_type": "code",
   "execution_count": null,
   "metadata": {},
   "outputs": [],
   "source": [
    "[{\"question_test\": \"What are dolphins?,\n",
    "\"alternatives_1\":[\"Amphibians\",\"Fish\",\"Mammals\",\"Birds\"],\n",
    "\"correct answer\":3},\n",
    "{\"question_text\":\"What occupies most of the Earth's surface?\",\n",
    "\"alternatives_1\":[\"Land\", \"Water\"],\n",
    "\"correct answer\":2}]"
   ]
  },
  {
   "cell_type": "code",
   "execution_count": null,
   "metadata": {},
   "outputs": [],
   "source": [
    "import json"
   ]
  },
  {
   "cell_type": "code",
   "execution_count": null,
   "metadata": {},
   "outputs": [],
   "source": [
    "with open(\"question.json\",'r') as file:\n",
    "    content = file.read()\n",
    "data = json.loads(content)     # Note: - here content in string converts to list \n",
    "print(type(content))\n",
    "print(type(data)) \n",
    "\n",
    "\n",
    "for question in data:\n",
    "    print(question[\"question_text\"])\n",
    "    for index, alternative in enumerate question['alternatives_1']:\n",
    "        print(index + 1,'-', alternative)\n",
    "    user_choice = int(input(\"Enter your answer:  \"))   \n",
    "    question['user_choice_1']= user_choice    # here we are adding another 'key-value pair' to the 'data' as dictionary.\n",
    "    \n",
    "score = 0        \n",
    "for index,question in enumerate(data):\n",
    "    if question['user_choice_1'] == question[\"correct_answer\"]:\n",
    "        score = score + 1\n",
    "        result = \"Right answer\"\n",
    "    else:\n",
    "        result = \"Wrong answer\"\n",
    "        \n",
    "    message = f\"{index +1} -- {result} Your answer: {question['user_choice_1']},\" \\\n",
    "              f\"Correct answer: {question['correct_answer']}\"  \n",
    "    print(message)\n",
    "    \n",
    "print(score, \"/\", len(data)) \n"
   ]
  },
  {
   "cell_type": "code",
   "execution_count": null,
   "metadata": {},
   "outputs": [],
   "source": [
    "# ## video: 149,159(remote repository setup),169 (clone a remote repository)  integrating git with pycharm "
   ]
  },
  {
   "cell_type": "markdown",
   "metadata": {},
   "source": [
    "###video: 154, install FreeSimpleGUI  in pycharm interpreter and other IDE, info abour(https://pypi.org/).  "
   ]
  },
  {
   "cell_type": "markdown",
   "metadata": {},
   "source": [
    "### video:174, install rainbow plugin in pycharm, timestamp:13.00.00 "
   ]
  },
  {
   "cell_type": "code",
   "execution_count": 1,
   "metadata": {},
   "outputs": [
    {
     "name": "stdout",
     "output_type": "stream",
     "text": [
      "Defaulting to user installation because normal site-packages is not writeable\n",
      "Requirement already satisfied: PySimpleGUI in c:\\users\\admin\\appdata\\roaming\\python\\python311\\site-packages (5.0.6)\n",
      "Requirement already satisfied: rsa in c:\\users\\admin\\appdata\\roaming\\python\\python311\\site-packages (from PySimpleGUI) (4.9)\n",
      "Requirement already satisfied: pyasn1>=0.1.3 in c:\\programdata\\anaconda3\\lib\\site-packages (from rsa->PySimpleGUI) (0.4.8)\n",
      "Note: you may need to restart the kernel to use updated packages.\n"
     ]
    }
   ],
   "source": [
    "pip install PySimpleGUI"
   ]
  },
  {
   "cell_type": "markdown",
   "metadata": {},
   "source": [
    "#                    Destop GUI ( Graphical User Interface )"
   ]
  },
  {
   "cell_type": "code",
   "execution_count": null,
   "metadata": {},
   "outputs": [],
   "source": [
    "# video:154, Create a Desktop Graphical User Interface (GUI)\n",
    "# https://pypi.org/project/FreeSimpleGUI/"
   ]
  },
  {
   "cell_type": "code",
   "execution_count": null,
   "metadata": {},
   "outputs": [],
   "source": [
    "pip install FreeSimpleGUI    "
   ]
  },
  {
   "cell_type": "code",
   "execution_count": null,
   "metadata": {},
   "outputs": [],
   "source": [
    "# FreeSimpleGUI   or PySimpleGUI ( mostly used)"
   ]
  },
  {
   "cell_type": "code",
   "execution_count": null,
   "metadata": {},
   "outputs": [],
   "source": [
    "pip install PySimpleGUI"
   ]
  },
  {
   "cell_type": "code",
   "execution_count": null,
   "metadata": {},
   "outputs": [],
   "source": [
    "import FreeSimpleGUI as sg\n",
    "label = sg.Text('Type in a to-do')\n",
    "input_box = sg.InputText(tooltip='Enter todo')\n",
    "add_button = sg.Button(\"Add\")\n",
    "\n",
    "\n",
    "window = sg.Window(\"My To-Do App\", layout= [[label],[input_box, add_button]])\n",
    "window.read()\n",
    "window.close()"
   ]
  },
  {
   "cell_type": "code",
   "execution_count": null,
   "metadata": {},
   "outputs": [],
   "source": [
    "# video: 163, list box setup made and explained.\n",
    "# video:164,  Edit button setup made and explained.\n",
    "# video: 173, complete and exit button setup made and explained.\n",
    "# video: 174, try and except for error handling, clock added,theme added,list_box size selection,\n",
    "### video:174, install rainbow plugin in pycharm, timestamp:13.00.00 \n",
    "# Udemy= used insted of event= key1, values = values1, \"todos\"= 'list', todos = data\n",
    "import FreeSimpleGUI as sg\n",
    "import time\n",
    "%run functions1.py\n",
    "\n",
    "sg.theme(\"LightGreen4\")\n",
    "clock = sg.Text(\" \", key = 'clock')\n",
    "label = sg.Text('Type in a to-do')\n",
    "input_box = sg.InputText(tooltip='Enter todo',key = 'todo')\n",
    "                            # A \"tooltip\" usually contains text that provides additional description, context, or instructions..\n",
    "add_button = sg.Button(\"Add\")\n",
    "list_box = sg.Listbox(values = table_r(), key= \"list\", enable_events = True, size =[45,15])\n",
    "edit_button = sg.Button(\"Edit\")\n",
    "complete_button = sg.Button(\"Complete\")\n",
    "exit_button = sg.Button(\"Exit\")\n",
    "layout_1 = [[clock],[label],[input_box, add_button],\n",
    "            [list_box, edit_button,complete_button],\n",
    "            [exit_button]]\n",
    "\n",
    "window = sg.Window(\"My To-Do App\", layout= layout_1, font = ('Helvetica',20))\n",
    "\n",
    "while True:\n",
    "    key1, values1 = window.read(timeout=2000)\n",
    "    window[\"clock\"].update(value = time.strftime('%d - %b - %Y,  %H:%M:%S'))\n",
    "    print(1,key1)\n",
    "    print(2,values1)\n",
    "    print(3,values1['list'])\n",
    "    match key1:\n",
    "        case \"Add\":\n",
    "                with open(r\"D:\\Data Science\\Directory_A\\practice_txt_files1\\content-5.txt\", 'r') as file:  # video:163\n",
    "                    data = file.readlines()\n",
    "                    \n",
    "                new_todo = values1['todo'] + \"\\n\"\n",
    "                data.append(new_todo)\n",
    "            \n",
    "                with open(r\"D:\\Data Science\\Directory_A\\practice_txt_files1\\content-5.txt\", 'w') as file:\n",
    "                        file.writelines(data)\n",
    "                window[\"list\"].update(values = data)        \n",
    "                    \n",
    "        case \"Edit\":\n",
    "            try:  \n",
    "                todo_to_edit = values1['list'][0]        # marking position\n",
    "                new_todo = values1['todo'] + \"\\n\"\n",
    "            \n",
    "                data = table_r()\n",
    "            \n",
    "                index = data.index(todo_to_edit)\n",
    "                data[index] = new_todo\n",
    "            \n",
    "                table_w(data)\n",
    "                window[\"list\"].update(values = data)\n",
    "            except IndexError:  \n",
    "                sg.popup(\"Please select an item first.\", font = ('Helvetica',20))\n",
    "                     \n",
    "        case \"Complete\":\n",
    "          try:           \n",
    "                todo_to_complete = values1['list'][0] \n",
    "                data = table_r()\n",
    "                data.remove(todo_to_complete)\n",
    "                table_w(data)\n",
    "                window[\"list\"].update(values = data)\n",
    "                window['todo'].update(value= \" \")\n",
    "          except IndexError:  \n",
    "                sg.popup(\"Please select an item first.\", font = ('Helvetica',20)) \n",
    "                         \n",
    "        case \"Exit\":\n",
    "            break\n",
    "            \n",
    "        case \"list\":    \n",
    "                window['todo'].update(value= values1['list'][0])\n",
    "            \n",
    "        #case sg.WIN_CLOSED:\n",
    "            #break              #  video: 165, difference between \"break\" and \"exit\" explained.\n",
    "            \n",
    "print(\"Bye\")             \n",
    "window.close()"
   ]
  },
  {
   "cell_type": "markdown",
   "metadata": {},
   "source": [
    "# \"My Grocery List App prepared and working\""
   ]
  },
  {
   "cell_type": "code",
   "execution_count": null,
   "metadata": {},
   "outputs": [],
   "source": [
    "import FreeSimpleGUI as sg\n",
    "\n",
    "FILEPATH = \"D:\\Data Science\\Directory_A\\practice_txt_files1\\groceries.txt\"\n",
    "\n",
    "def table_r(filepath = FILEPATH):\n",
    "    with open(filepath, 'r') as file:\n",
    "        data =file.readlines()\n",
    "    return data     # \"My Grocery List App prepared and working\"\n",
    "        \n",
    "def table_w(data, filepath= FILEPATH):\n",
    "    with open(filepath, 'w') as file:\n",
    "        file.writelines(data)\n",
    "\n",
    "label = sg.Text('Type in a Grocery Item')\n",
    "input_box = sg.InputText(tooltip='Enter Item',key = 'New-Item')\n",
    "add_button = sg.Button(\"Add-Item\")\n",
    "list_box = sg.Listbox(values = table_r(), key= \"Item-listed\", enable_events = True, size =[45,10])\n",
    "edit_button = sg.Button(\"Edit-Item\")\n",
    "remove_button = sg.Button(\"Remove-Item\")\n",
    "exit_button = sg.Button(\"Exit\")\n",
    "layout_1 = [[label],[input_box, add_button],\n",
    "            [list_box, edit_button,remove_button],\n",
    "            [exit_button]]\n",
    "window = sg.Window(\"My Grocery List App\", layout= layout_1, font = ('Helvetica',20))\n",
    "\n",
    "while True:\n",
    "    key1, values1 = window.read()\n",
    "    print(1,key1)\n",
    "    print(2,values1)\n",
    "    print(3,values1[\"Item-listed\"])\n",
    "    match key1:\n",
    "        case \"Add-Item\":\n",
    "            with open(\"D:\\Data Science\\Directory_A\\practice_txt_files1\\groceries.txt\", 'r') as file: \n",
    "                 data = file.readlines()\n",
    "                    \n",
    "            latest_item = values1['New-Item'] + \"\\n\"\n",
    "            data.append(latest_item)\n",
    "            \n",
    "            with open(\"D:\\Data Science\\Directory_A\\practice_txt_files1\\groceries.txt\", 'w') as file:\n",
    "                        file.writelines(data)\n",
    "            window[\"Item-listed\"].update(values = data) \n",
    "            \n",
    "        case \"Edit-Item\":\n",
    "            \n",
    "            item_to_edit = values1['Item-listed'][0]\n",
    "            latest_item = values1['New-Item']\n",
    "            \n",
    "            \n",
    "            data = table_r()\n",
    "            \n",
    "            \n",
    "            index = data.index(item_to_edit )\n",
    "            data[index] = latest_item\n",
    "            \n",
    "            table_w(data)\n",
    "            window[\"Item-listed\"].update(values = data)\n",
    "            \n",
    "        case \"Remove-Item\":\n",
    "            item_tobe_removed = values1['Item-listed'][0] \n",
    "            data = table_r()\n",
    "            data.remove(item_tobe_removed)\n",
    "            table_w(data)\n",
    "            window[\"Item-listed\"].update(values = data)\n",
    "            window['New-Item'].update(value= \" \")\n",
    "        case \"Exit\":\n",
    "            break\n",
    "            \n",
    "        case \"Item-listed\": \n",
    "            window['New-Item'].update(value= values1['Item-listed'][0])\n",
    "            \n",
    "print(\"Bye\")             \n",
    "window.close()            \n",
    "            \n"
   ]
  },
  {
   "cell_type": "markdown",
   "metadata": {},
   "source": [
    "# Using \"images\" in Buttons, video:175"
   ]
  },
  {
   "cell_type": "code",
   "execution_count": null,
   "metadata": {},
   "outputs": [],
   "source": [
    "\n",
    "# \"plus-button.png\" & \"stop-button.png\"  = This image is first uploaded in python tutorials.\n",
    "# tooltip= when we keep the cursor on a button then a text description is shown. here as \"Add Todo\"\n",
    "\n",
    "import FreeSimpleGUI as sg\n",
    "import time\n",
    "%run functions1.py\n",
    "\n",
    "sg.theme(\"LightGreen4\")\n",
    "clock = sg.Text(\" \", key = 'clock')\n",
    "label = sg.Text('Type in a to-do')\n",
    "input_box = sg.InputText(tooltip='Enter todo',key = 'todo')\n",
    "                            # A \"tooltip\" usually contains text that provides additional description, context, or instructions..\n",
    "add_button = sg.Button(size=2,mouseover_colors= \"LightBlue2\", tooltip=\"Add Todo\",key=\"Add\",image_size= (80,80),\n",
    "                    image_source=\"plus-button.png\")\n",
    "list_box = sg.Listbox(values = table_r(), key= \"list\", enable_events = True, size =[45,15])\n",
    "edit_button = sg.Button(\"Edit\")\n",
    "complete_button = sg.Button(\"Complete\")\n",
    "exit_button = sg.Button(size=2,mouseover_colors= \"LightBlue2\", tooltip=\"Add Todo\",key=\"Exit\",image_size= (80,80),\n",
    "                    image_source=\"stop-button.png\")\n",
    "layout_1 = [[clock],[label],[input_box, add_button],\n",
    "            [list_box, edit_button,complete_button],\n",
    "            [exit_button]]\n",
    "\n",
    "window = sg.Window(\"My To-Do App\", layout= layout_1, font = ('Helvetica',20))\n",
    "\n",
    "while True:\n",
    "    key1, values1 = window.read(timeout=2000)\n",
    "    window[\"clock\"].update(value = time.strftime('%d - %b - %Y,  %H:%M:%S'))\n",
    "    print(1,key1)\n",
    "    print(2,values1)\n",
    "    print(3,values1['list'])\n",
    "    match key1:\n",
    "        case \"Add\":\n",
    "                with open(r\"D:\\Data Science\\Directory_A\\practice_txt_files1\\content-5.txt\", 'r') as file:  # video:163\n",
    "                    data = file.readlines()\n",
    "                    \n",
    "                new_todo = values1['todo'] + \"\\n\"\n",
    "                data.append(new_todo)\n",
    "            \n",
    "                with open(r\"D:\\Data Science\\Directory_A\\practice_txt_files1\\content-5.txt\", 'w') as file:\n",
    "                        file.writelines(data)\n",
    "                window[\"list\"].update(values = data)        \n",
    "                    \n",
    "        case \"Edit\":\n",
    "            try:  \n",
    "                todo_to_edit = values1['list'][0]        # marking position\n",
    "                new_todo = values1['todo'] + \"\\n\"\n",
    "            \n",
    "                data = table_r()\n",
    "            \n",
    "                index = data.index(todo_to_edit)\n",
    "                data[index] = new_todo\n",
    "            \n",
    "                table_w(data)\n",
    "                window[\"list\"].update(values = data)\n",
    "            except IndexError:  \n",
    "                sg.popup(\"Please select an item first.\", font = ('Helvetica',20))\n",
    "                     \n",
    "        case \"Complete\":\n",
    "          try:           \n",
    "                todo_to_complete = values1['list'][0] \n",
    "                data = table_r()\n",
    "                data.remove(todo_to_complete)\n",
    "                table_w(data)\n",
    "                window[\"list\"].update(values = data)\n",
    "                window['todo'].update(value= \" \")\n",
    "          except IndexError:  \n",
    "                sg.popup(\"Please select an item first.\", font = ('Helvetica',20)) \n",
    "                         \n",
    "        case \"Exit\":\n",
    "            break\n",
    "            \n",
    "        case \"list\":    \n",
    "                window['todo'].update(value= values1['list'][0])\n",
    "            \n",
    "        #case sg.WIN_CLOSED:\n",
    "            #break              #  video: 165, difference between \"break\" and \"exit\" explained.\n",
    "            \n",
    "print(\"Bye\")             \n",
    "window.close()"
   ]
  },
  {
   "cell_type": "markdown",
   "metadata": {},
   "source": [
    "# Automating the creation of text file & executable app to work App in any computer or IDE. (Video: 179)"
   ]
  },
  {
   "cell_type": "code",
   "execution_count": null,
   "metadata": {},
   "outputs": [],
   "source": [
    "# Error correction for \"File C:\\Python Projects\\venv\\Scripts\\activate.ps1 cannot be loaded because \n",
    "# running scripts is disabled on this system.(setup- execution_policy) (timestamp: 5.30)\n",
    "# creating executable file in windows, linux and mac.\n",
    "#(timestamp:8.20), pyinstaller --onefile --windowed --clean filename.py ( --windowed= to avoid command line),\n",
    "    #(--clean= it delete previously written data & gets new sheets when we run filename.py again n again)\n",
    "# https://www.youtube.com/watch?v=bxuF8ucU_jY\n",
    "# D:\\Data Science\\python_ videos\\Learn to Convert .py to .exe Python Tutorials For Absolute Beginners In Hindi\n"
   ]
  },
  {
   "cell_type": "code",
   "execution_count": null,
   "metadata": {},
   "outputs": [],
   "source": [
    "import FreeSimpleGUI as sg\n",
    "import os    \n",
    "\n",
    "if not os.path.exists(\"groceries.txt\"):\n",
    "    with open (\"groceries.txt\",\"w\") as file:\n",
    "        pass\n",
    "\n",
    "FILEPATH = \"groceries.txt\"\n",
    "\n",
    "def table_r(filepath = FILEPATH):\n",
    "    with open(filepath, 'r') as file:\n",
    "        data =file.readlines()\n",
    "    return data     \n",
    "        \n",
    "def table_w(data, filepath= FILEPATH):\n",
    "    with open(filepath, 'w') as file:\n",
    "        file.writelines(data)\n",
    "\n",
    "label = sg.Text('Type in a Grocery Item')\n",
    "input_box = sg.InputText(tooltip='Enter Item',key = 'New-Item')\n",
    "add_button = sg.Button(\"Add-Item\")\n",
    "list_box = sg.Listbox(values = table_r(), key= \"Item-listed\", enable_events = True, size =[45,10])\n",
    "edit_button = sg.Button(\"Edit-Item\")\n",
    "remove_button = sg.Button(\"Remove-Item\")\n",
    "exit_button = sg.Button(\"Exit\")\n",
    "layout_1 = [[label],[input_box, add_button],\n",
    "            [list_box, edit_button,remove_button],\n",
    "            [exit_button]]\n",
    "window = sg.Window(\"My Grocery List App\", layout= layout_1, font = ('Helvetica',20))\n",
    "\n",
    "while True:\n",
    "    key1, values1 = window.read()\n",
    "    print(1,key1)\n",
    "    print(2,values1)\n",
    "    print(3,values1[\"Item-listed\"])\n",
    "    match key1:\n",
    "        case \"Add-Item\":\n",
    "            with open(\"groceries.txt\", 'r') as file: \n",
    "                 data = file.readlines()\n",
    "                    \n",
    "            latest_item = values1['New-Item'] + \"\\n\"\n",
    "            data.append(latest_item)\n",
    "            \n",
    "            with open(\"groceries.txt\", 'w') as file:\n",
    "                        file.writelines(data)\n",
    "            window[\"Item-listed\"].update(values = data) \n",
    "            \n",
    "        case \"Edit-Item\":\n",
    "            \n",
    "            item_to_edit = values1['Item-listed'][0]\n",
    "            latest_item = values1['New-Item']\n",
    "            \n",
    "            \n",
    "            data = table_r()\n",
    "            \n",
    "            \n",
    "            index = data.index(item_to_edit )\n",
    "            data[index] = latest_item\n",
    "            \n",
    "            table_w(data)\n",
    "            window[\"Item-listed\"].update(values = data)\n",
    "            \n",
    "        case \"Remove-Item\":\n",
    "            item_tobe_removed = values1['Item-listed'][0] \n",
    "            data = table_r()\n",
    "            data.remove(item_tobe_removed)\n",
    "            table_w(data)\n",
    "            window[\"Item-listed\"].update(values = data)\n",
    "            window['New-Item'].update(value= \" \")\n",
    "        case \"Exit\":\n",
    "            break\n",
    "            \n",
    "        case \"Item-listed\": \n",
    "            window['New-Item'].update(value= values1['Item-listed'][0])\n",
    "            \n",
    "print(\"Bye\")             \n",
    "window.close()            \n",
    "            "
   ]
  },
  {
   "cell_type": "markdown",
   "metadata": {},
   "source": [
    "# Video: 183, Creating a Web App"
   ]
  },
  {
   "cell_type": "code",
   "execution_count": null,
   "metadata": {},
   "outputs": [],
   "source": [
    "pip install streamlit"
   ]
  },
  {
   "cell_type": "code",
   "execution_count": null,
   "metadata": {},
   "outputs": [],
   "source": [
    "# Check the below installs importance \n",
    "#For better performance, install the Watchdog module:\n",
    "#  xcode-select --install\n",
    "#  pip install watchdog"
   ]
  },
  {
   "cell_type": "code",
   "execution_count": null,
   "metadata": {},
   "outputs": [],
   "source": [
    "# To open the Web-App1.py file in browser we need to run the command in \"Anaconda prompt\".\n",
    "# command : streamlit run filename.py\n",
    "#Video:183,184 # Adding New Todo items on the Web App\n",
    "#Video: 185, Removing the items from the list or file.\n",
    "#video: 186= Deploying the Web App to the Cloud. or check the downloaded video below.\n",
    "#D:\\Data Science\\python_ videos\\Make a Python Website in 10 Mins using Steamlit - Simple - Fast Website\n",
    "#Video:187,adding multiple pages in web-app(timestamp:9.30),\n"
   ]
  },
  {
   "cell_type": "code",
   "execution_count": null,
   "metadata": {},
   "outputs": [],
   "source": [
    "\n",
    "import streamlit as st\n",
    "\n",
    "FILEPATH = \"groceries.txt\"\n",
    "\n",
    "\n",
    "def table_r(filepath=FILEPATH):\n",
    "    with open(filepath, 'r') as file:\n",
    "        data = file.readlines()\n",
    "    return data\n",
    "\n",
    "\n",
    "\n",
    "def table_w(data, filepath=FILEPATH):\n",
    "    with open(filepath, 'w') as file:\n",
    "        file.writelines(data)\n",
    "\n",
    "todos = table_r()\n",
    "\n",
    "st.set_page_config(layout=\"wide\")  # video:187,timestamp: 9.00\n",
    "\n",
    "def add_todo():\n",
    "    todo = st.session_state[\"new_todo\"] + \"\\n\"\n",
    "    todos.append(todo)\n",
    "    table_w(todos)\n",
    "\n",
    "\n",
    "st.title( \"My Todo App\")\n",
    "st.subheader(\"This is my todo app \")\n",
    "st.write(\"This app is to increase your <b> productivity</b>.\",unsafe_allow_html=True) # video:187\n",
    "\n",
    "st.text_input(label=\"Enter a todo:   \", placeholder=\"Add new todo here-----\",\n",
    "              on_change= add_todo, key='new_todo')\n",
    "\n",
    "for index,todo in enumerate (todos):\n",
    "    checkbox = st.checkbox(todo, key=todo)\n",
    "    if checkbox:\n",
    "        todos.pop(index)\n",
    "        table_w(todos)\n",
    "        del st.session_state[todo]\n",
    "        st.rerun()\n",
    "\n",
    "\n",
    "\n",
    "\n",
    "st.session_state\n",
    "\n",
    "\n",
    "# to start the programme in browser enter : streamlit run Web-App.py\n",
    "# enter Ctrl+ C in the terminal to stop the programme.\n",
    "# pip freeze > requirements.txt\n",
    "# now add required files to the Github, then check the downloaed video."
   ]
  },
  {
   "cell_type": "markdown",
   "metadata": {},
   "source": [
    "## Video: 188, building a web-camera and applying grey-scale background.\n",
    "####  timestamp: 9.30, error handling imp."
   ]
  },
  {
   "cell_type": "code",
   "execution_count": null,
   "metadata": {},
   "outputs": [],
   "source": [
    "import streamlit as st\n",
    "#install pillow pacakge, usually it get installed with streamlit, still check once.\n",
    "from PIL import Image\n",
    "\n",
    "with st.expander(\"Start Camera\"):       #timestamp: 11.20\n",
    "    #Start the camera\n",
    "    camera_image= st.camera_input(\"Camera\")\n",
    "\n",
    "if camera_image:\n",
    "    #Create a pillow image instance\n",
    "    img = Image.open(camera_image)\n",
    "\n",
    "    #Converting the pillow image to grayscale\n",
    "    gray_img= img.convert(\"L\")\n",
    "\n",
    "    #Render the grayscale image on the webpage\n",
    "    st.image(gray_img)"
   ]
  },
  {
   "cell_type": "markdown",
   "metadata": {},
   "source": [
    "## Video:190, As Streamlit is limited, hence we explore other platforms like Heroku, AWS, Paas,Iaas etc.."
   ]
  },
  {
   "cell_type": "code",
   "execution_count": null,
   "metadata": {},
   "outputs": [],
   "source": [
    "#timestamp: 9.30, Procfile and setup.sh  files downloaded  at (D:\\Data Science\\python_ videos).\n",
    "# These files are used while working in Heroku."
   ]
  },
  {
   "cell_type": "markdown",
   "metadata": {},
   "source": [
    "# video:194, Pycharm troubleshooting,"
   ]
  },
  {
   "cell_type": "markdown",
   "metadata": {},
   "source": [
    "# Build File Zipper app"
   ]
  },
  {
   "cell_type": "code",
   "execution_count": null,
   "metadata": {},
   "outputs": [],
   "source": [
    "# video:156\n",
    "# video:166,\n",
    "\n",
    "import FreeSimpleGUI as sg\n",
    "\n",
    "sg.theme(\"LightGreen4\")\n",
    "\n",
    "label1 = sg.Text('Select files to compress:-')\n",
    "input1 = sg.Input()\n",
    "choose_button1 = sg.FilesBrowse('Choose',key= 'files')\n",
    "\n",
    "label2 = sg.Text('Select destination folder:-')\n",
    "input2 = sg.Input()\n",
    "choose_button2 = sg.FolderBrowse('Choose', key='Destination_folder')\n",
    "\n",
    "compress_button = sg.Button(\"Compress\")\n",
    "\n",
    "window = sg.Window(\"File Compressor\",layout =[[label1,input1,choose_button1],\n",
    "                                              [label2,input2,choose_button2],\n",
    "                                              [compress_button]])\n",
    "\n",
    "while True:\n",
    "    event, values = window.read()\n",
    "    print(event, values)\n",
    "    filepaths = values['files'].split(';')\n",
    "    folder = values[\"Destination_folder\"]\n",
    "    \n",
    "window.close()\n"
   ]
  },
  {
   "cell_type": "code",
   "execution_count": null,
   "metadata": {},
   "outputs": [],
   "source": [
    "# doubt, video:176,\n",
    "\n",
    "import FreeSimpleGUI as sg\n",
    "import zipfile\n",
    "\n",
    "def extract_archive(archivepath, dest_dir):\n",
    "    with zipfile.ZipFile(archivepath, \"r\") as archive:\n",
    "        archive.extractall(dest_dir)\n",
    "        \n",
    "        \n",
    "if __name__ == \"__main__\":\n",
    "    extract_archive(\"D:\\Data Science\\Directory_A\\practice_txt_files1\\groceries2.zip\", \n",
    "                    \"D:\\Data Science\\Directory_A\\practice_txt_files1\")\n",
    "\n",
    "sg.theme(\"LightGreen4\")\n",
    "\n",
    "label1 = sg.Text('Select archive:')\n",
    "input1 = sg.Input()\n",
    "choose_button1 = sg.FilesBrowse('Choose',key= 'archive')\n",
    "\n",
    "label2 = sg.Text('Select dest dir:')\n",
    "input2 = sg.Input()\n",
    "choose_button2 = sg.FolderBrowse('Choose', key='folder')\n",
    "\n",
    "extract_button = sg.Button(\"Extract\")\n",
    "output_label = sg.Text(key=\"output\",text_color=\"green\")\n",
    "\n",
    "window = sg.Window(\"File Compressor\",layout =[[label1,input1,choose_button1],\n",
    "                                              [label2,input2,choose_button2],\n",
    "                                              [extract_button,output_label]])\n",
    "\n",
    "while True:\n",
    "    event, values = window.read()\n",
    "    print(event, values)\n",
    "    archivepath = values['archive'].split(';')\n",
    "    dest_dir = values[\"folder\"]\n",
    "    extract_archive(archivepath, dest_dir)\n",
    "    window[\"output\"].update(value= \"Extraction Completed\")\n",
    "    \n",
    "window.close()\n"
   ]
  },
  {
   "cell_type": "code",
   "execution_count": null,
   "metadata": {},
   "outputs": [],
   "source": [
    "#  doubt, video: 176,\n",
    "import zipfile\n",
    "\n",
    "def extract_archive(archivepath, dest_dir):\n",
    "    with zipfile.ZipFile(archivepath, \"r\") as archive:\n",
    "        archive.extractall(dest_dir)\n",
    "        \n",
    "        \n",
    "if __name__ = \"__main__\":\n",
    "    extract_archive(\"D:\\Data Science\\Directory_A\\practice_txt_files1\\groceries2.zip\", \n",
    "                    \"D:\\Data Science\\Directory_A\\practice_txt_files1\")"
   ]
  },
  {
   "cell_type": "markdown",
   "metadata": {},
   "source": [
    "#                                 Python Basics Ends                               #"
   ]
  }
 ],
 "metadata": {
  "kernelspec": {
   "display_name": "Python 3 (ipykernel)",
   "language": "python",
   "name": "python3"
  },
  "language_info": {
   "codemirror_mode": {
    "name": "ipython",
    "version": 3
   },
   "file_extension": ".py",
   "mimetype": "text/x-python",
   "name": "python",
   "nbconvert_exporter": "python",
   "pygments_lexer": "ipython3",
   "version": "3.11.3"
  }
 },
 "nbformat": 4,
 "nbformat_minor": 4
}
